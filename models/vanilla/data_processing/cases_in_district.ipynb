{
 "cells": [
  {
   "cell_type": "code",
   "execution_count": null,
   "metadata": {},
   "outputs": [],
   "source": [
    "import pandas as pd\n",
    "import numpy as np\n",
    "from collections import defaultdict\n",
    "from datetime import datetime\n",
    "import matplotlib.pyplot as plt"
   ]
  },
  {
   "cell_type": "code",
   "execution_count": null,
   "metadata": {},
   "outputs": [],
   "source": [
    "## Dataset from incovid19 website"
   ]
  },
  {
   "cell_type": "code",
   "execution_count": null,
   "metadata": {},
   "outputs": [],
   "source": [
    "cases_file = '/mnt/d/books/iitm/agentBased/data/tn/incovid19/cases/original.csv'\n",
    "vaccine_file = '/mnt/d/books/iitm/agentBased/data/tn/incovid19/vaccine/original.csv'"
   ]
  },
  {
   "cell_type": "code",
   "execution_count": null,
   "metadata": {},
   "outputs": [],
   "source": [
    "types = {\n",
    "    \"Date\": \"string\",\n",
    "    \"State\": \"string\",\n",
    "    \"District\": \"string\",\n",
    "    \"Confirmed\": \"Int64\",\n",
    "    \"Recovered\": \"Int64\",\n",
    "    \"Deceased\": \"Int64\",\n",
    "    \"Other\": \"Int64\",\n",
    "    \"Tested\": \"Int64\"\n",
    "}\n",
    "df_cases = pd.read_csv(cases_file, sep=',', dtype=types)"
   ]
  },
  {
   "cell_type": "code",
   "execution_count": null,
   "metadata": {},
   "outputs": [],
   "source": [
    "tn_cases = df_cases[df_cases['State'] == 'Tamil Nadu'].reset_index(drop=True)\n",
    "tn_cases.rename(columns={\"Confirmed\":\"cum_confirmed\", \"Recovered\":\"cum_recovered\", \"Deceased\":\"cum_deceased\", \"Tested\":\"cum_tested\", \"State\":\"state\", \"District\":\"district\", \"Date\":\"date\", \"Other\":\"other\"}, inplace=True)\n",
    "tn_cases = tn_cases.sort_values('date').reset_index(drop=True)\n",
    "tn_cases.head(n=2)"
   ]
  },
  {
   "cell_type": "code",
   "execution_count": null,
   "metadata": {},
   "outputs": [],
   "source": [
    "fig, ax = plt.subplots(figsize=(15, 8))\n",
    "tn_cases[tn_cases['district'] == 'Chennai'].plot(ax=ax, kind='line', x='date', y='cum_confirmed')"
   ]
  },
  {
   "cell_type": "code",
   "execution_count": null,
   "metadata": {
    "scrolled": false
   },
   "outputs": [],
   "source": [
    "tn_cases[tn_cases['cum_tested'].notna() & (tn_cases['district'] == 'Erode')]"
   ]
  },
  {
   "cell_type": "code",
   "execution_count": null,
   "metadata": {
    "scrolled": true
   },
   "outputs": [],
   "source": [
    "def get_daily_cases(row, key, prev_cnt):\n",
    "    if  pd.isnull(row[key]) or row[key] == 0:\n",
    "        return 0\n",
    "    daily_cnt = row[key] - prev_cnt[row['district']]\n",
    "    if daily_cnt < 0:\n",
    "        # print(f'{row[\"date\"]} {row[\"district\"]} {row[key]} {prev_cnt[row[\"district\"]]}')\n",
    "        daily_cnt = 0\n",
    "    prev_cnt[row['district']] = row[key]\n",
    "    return daily_cnt"
   ]
  },
  {
   "cell_type": "code",
   "execution_count": null,
   "metadata": {},
   "outputs": [],
   "source": [
    "prev_confirmed_cnt = defaultdict(int)\n",
    "tn_cases['new_confirmed'] = tn_cases.apply(lambda row: get_daily_cases(row, 'cum_confirmed', prev_confirmed_cnt), axis=1)"
   ]
  },
  {
   "cell_type": "code",
   "execution_count": null,
   "metadata": {},
   "outputs": [],
   "source": [
    "prev_recovered_cnt = defaultdict(int)\n",
    "tn_cases['new_recovered'] = tn_cases.apply(lambda r: get_daily_cases(r, 'cum_recovered', prev_recovered_cnt), axis=1)"
   ]
  },
  {
   "cell_type": "code",
   "execution_count": null,
   "metadata": {
    "scrolled": true
   },
   "outputs": [],
   "source": [
    "prev_deceased_cnt = defaultdict(int)\n",
    "tn_cases['new_deceased'] = tn_cases.apply(lambda r: get_daily_cases(r, 'cum_deceased', prev_deceased_cnt), axis=1)"
   ]
  },
  {
   "cell_type": "code",
   "execution_count": null,
   "metadata": {},
   "outputs": [],
   "source": [
    "prev_tested_cnt = defaultdict(int)\n",
    "tn_cases['new_tested'] = tn_cases.apply(lambda r: get_daily_cases(r, 'cum_tested', prev_tested_cnt), axis=1)"
   ]
  },
  {
   "cell_type": "code",
   "execution_count": null,
   "metadata": {
    "scrolled": true
   },
   "outputs": [],
   "source": [
    "# tn_cases[tn_cases['district'] == 'Chennai'][325:375]\n",
    "tn_cases.head(n=2)"
   ]
  },
  {
   "cell_type": "code",
   "execution_count": null,
   "metadata": {},
   "outputs": [],
   "source": [
    "refactor_file = '/mnt/d/books/iitm/agentBased/data/tn/incovid19/cases/cases_district_refactor.csv'\n",
    "tn_cases.to_csv(refactor_file, sep=',', index=False, header=True)"
   ]
  },
  {
   "cell_type": "code",
   "execution_count": null,
   "metadata": {},
   "outputs": [],
   "source": []
  }
 ],
 "metadata": {
  "kernelspec": {
   "display_name": "Python 3 (ipykernel)",
   "language": "python",
   "name": "python3"
  },
  "language_info": {
   "codemirror_mode": {
    "name": "ipython",
    "version": 3
   },
   "file_extension": ".py",
   "mimetype": "text/x-python",
   "name": "python",
   "nbconvert_exporter": "python",
   "pygments_lexer": "ipython3",
   "version": "3.8.12"
  }
 },
 "nbformat": 4,
 "nbformat_minor": 4
}
