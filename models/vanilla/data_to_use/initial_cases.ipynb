{
 "cells": [
  {
   "cell_type": "code",
   "execution_count": 1,
   "metadata": {},
   "outputs": [],
   "source": [
    "import pandas as pd\n",
    "import numpy as np\n",
    "from collections import defaultdict\n",
    "from datetime import datetime\n",
    "import matplotlib.pyplot as plt"
   ]
  },
  {
   "cell_type": "code",
   "execution_count": null,
   "metadata": {},
   "outputs": [],
   "source": []
  },
  {
   "cell_type": "code",
   "execution_count": 2,
   "metadata": {},
   "outputs": [],
   "source": [
    "daily_cases = '/mnt/d/books/iitm/agentBased/data/tn/incovid19/state_wise/daily_refactor.csv'\n",
    "\n",
    "df_state = pd.read_csv(daily_cases, sep=',')"
   ]
  },
  {
   "cell_type": "code",
   "execution_count": 5,
   "metadata": {},
   "outputs": [],
   "source": [
    "date = '2020-05-31'"
   ]
  },
  {
   "cell_type": "code",
   "execution_count": 6,
   "metadata": {},
   "outputs": [
    {
     "data": {
      "text/html": [
       "<div>\n",
       "<style scoped>\n",
       "    .dataframe tbody tr th:only-of-type {\n",
       "        vertical-align: middle;\n",
       "    }\n",
       "\n",
       "    .dataframe tbody tr th {\n",
       "        vertical-align: top;\n",
       "    }\n",
       "\n",
       "    .dataframe thead th {\n",
       "        text-align: right;\n",
       "    }\n",
       "</style>\n",
       "<table border=\"1\" class=\"dataframe\">\n",
       "  <thead>\n",
       "    <tr style=\"text-align: right;\">\n",
       "      <th></th>\n",
       "      <th>date</th>\n",
       "      <th>state</th>\n",
       "      <th>cum_confirmed</th>\n",
       "      <th>cum_recovered</th>\n",
       "      <th>cum_deceased</th>\n",
       "      <th>other</th>\n",
       "      <th>cum_tested</th>\n",
       "      <th>new_tested</th>\n",
       "      <th>new_confirmed</th>\n",
       "      <th>new_recovered</th>\n",
       "      <th>new_deceased</th>\n",
       "    </tr>\n",
       "  </thead>\n",
       "  <tbody>\n",
       "    <tr>\n",
       "      <th>85</th>\n",
       "      <td>2020-05-31</td>\n",
       "      <td>Tamil Nadu</td>\n",
       "      <td>22333</td>\n",
       "      <td>12757</td>\n",
       "      <td>176</td>\n",
       "      <td>0.0</td>\n",
       "      <td>491962.0</td>\n",
       "      <td>12807</td>\n",
       "      <td>1149</td>\n",
       "      <td>757</td>\n",
       "      <td>13</td>\n",
       "    </tr>\n",
       "  </tbody>\n",
       "</table>\n",
       "</div>"
      ],
      "text/plain": [
       "          date       state  cum_confirmed  cum_recovered  cum_deceased  other  \\\n",
       "85  2020-05-31  Tamil Nadu          22333          12757           176    0.0   \n",
       "\n",
       "    cum_tested  new_tested  new_confirmed  new_recovered  new_deceased  \n",
       "85    491962.0       12807           1149            757            13  "
      ]
     },
     "execution_count": 6,
     "metadata": {},
     "output_type": "execute_result"
    }
   ],
   "source": [
    "df_state[df_state['date'] == date]"
   ]
  },
  {
   "cell_type": "markdown",
   "metadata": {},
   "source": []
  },
  {
   "cell_type": "code",
   "execution_count": 12,
   "metadata": {},
   "outputs": [],
   "source": [
    "dtile_file = '/mnt/d/books/iitm/agentBased/codes/covasim/models/data/district_to_tile.csv'"
   ]
  },
  {
   "cell_type": "code",
   "execution_count": 14,
   "metadata": {},
   "outputs": [],
   "source": [
    "dtile_map = {}\n",
    "with open(dtile_file, 'r') as fp:\n",
    "    for line in fp:\n",
    "        v = [x.strip() for x in line.split(',')]\n",
    "        dtile_map[v[0]] = [int(x) for x in v[1:]]"
   ]
  },
  {
   "cell_type": "code",
   "execution_count": 16,
   "metadata": {},
   "outputs": [],
   "source": [
    "dist_case_file = '/mnt/d/books/iitm/agentBased/data/tn/incovid19/cases/cases_district_refactor.csv'\n",
    "df_dist = pd.read_csv(dist_case_file, delimiter=',')"
   ]
  },
  {
   "cell_type": "code",
   "execution_count": 32,
   "metadata": {},
   "outputs": [],
   "source": [
    "df = df_dist[(df_dist['date'] <= date)]"
   ]
  },
  {
   "cell_type": "code",
   "execution_count": 33,
   "metadata": {},
   "outputs": [],
   "source": [
    "tile_file = '/mnt/d/books/iitm/agentBased/codes/covasim/models/data/tn_quadkey.csv'\n",
    "tn_key = []\n",
    "with open(tile_file, 'r') as fp:\n",
    "    for line in fp:\n",
    "        tn_key.append(line.strip())"
   ]
  },
  {
   "cell_type": "code",
   "execution_count": 39,
   "metadata": {},
   "outputs": [
    {
     "data": {
      "text/plain": [
       "69"
      ]
     },
     "execution_count": 39,
     "metadata": {},
     "output_type": "execute_result"
    }
   ],
   "source": []
  },
  {
   "cell_type": "code",
   "execution_count": 40,
   "metadata": {},
   "outputs": [],
   "source": [
    "case_cnt = [0] * len(tn_key)\n",
    "for idx, row in df.iterrows():\n",
    "    dist = row['district']\n",
    "    if dist not in dtile_map:\n",
    "        continue\n",
    "    tiles = dtile_map[dist]\n",
    "    cases = (row['new_confirmed']) / (len(tiles))\n",
    "    for t in tiles:\n",
    "        case_cnt[t] += cases"
   ]
  },
  {
   "cell_type": "code",
   "execution_count": 41,
   "metadata": {},
   "outputs": [
    {
     "data": {
      "text/plain": [
       "31"
      ]
     },
     "execution_count": 41,
     "metadata": {},
     "output_type": "execute_result"
    }
   ],
   "source": [
    "dist = np.array(case_cnt)\n",
    "dist /= np.sum(dist)\n",
    "len(dist)"
   ]
  },
  {
   "cell_type": "code",
   "execution_count": 43,
   "metadata": {},
   "outputs": [
    {
     "data": {
      "text/plain": [
       "array([0.        , 0.00430416, 0.00215208, 0.04925873, 0.00023912,\n",
       "       0.00454328, 0.03778097, 0.02223816, 0.00621712, 0.15845688,\n",
       "       0.01721664, 0.17663   , 0.14506616, 0.01602104, 0.0215208 ,\n",
       "       0.0143472 , 0.04710665, 0.00701419, 0.04949785, 0.05499761,\n",
       "       0.02662203, 0.01960784, 0.01259366, 0.00557947, 0.01769488,\n",
       "       0.0263032 , 0.00557947, 0.00765184, 0.02941176, 0.0143472 ,\n",
       "       0.        ])"
      ]
     },
     "execution_count": 43,
     "metadata": {},
     "output_type": "execute_result"
    }
   ],
   "source": [
    "dist"
   ]
  }
 ],
 "metadata": {
  "kernelspec": {
   "display_name": "Python 3 (ipykernel)",
   "language": "python",
   "name": "python3"
  },
  "language_info": {
   "codemirror_mode": {
    "name": "ipython",
    "version": 3
   },
   "file_extension": ".py",
   "mimetype": "text/x-python",
   "name": "python",
   "nbconvert_exporter": "python",
   "pygments_lexer": "ipython3",
   "version": "3.8.12"
  }
 },
 "nbformat": 4,
 "nbformat_minor": 4
}
