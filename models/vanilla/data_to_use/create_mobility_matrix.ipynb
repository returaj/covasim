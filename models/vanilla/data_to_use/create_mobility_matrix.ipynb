{
 "cells": [
  {
   "cell_type": "code",
   "execution_count": 1,
   "metadata": {},
   "outputs": [],
   "source": [
    "from datetime import datetime\n",
    "from os import listdir\n",
    "from os.path import isfile, join\n",
    "import math\n",
    "import numpy as np\n",
    "import pandas as pd\n",
    "import seaborn as sns\n",
    "import matplotlib.pyplot as plt\n",
    "from scipy.stats.mstats import winsorize"
   ]
  },
  {
   "cell_type": "code",
   "execution_count": 61,
   "metadata": {},
   "outputs": [],
   "source": [
    "data_folder = '/mnt/d/books/iitm/agentBased/data/fb/Mobility_Tamil_Nadu_Coronavirus_Disease_Prevention_Map_Apr_07_2020_Id/2618166339883143_2020-09-01_2020-10-01_csv/'\n",
    "files = sorted([join(data_folder, f) for f in listdir(data_folder) if isfile(join(data_folder, f))])"
   ]
  },
  {
   "cell_type": "code",
   "execution_count": 2,
   "metadata": {
    "scrolled": true
   },
   "outputs": [],
   "source": [
    "quadkey_file = '/mnt/d/books/iitm/agentBased/codes/covasim/models/data/tn_quadkey.csv'\n",
    "tn_quadkey = []\n",
    "with open(quadkey_file, 'r') as fp:\n",
    "    for line in fp:\n",
    "        line = line.strip()\n",
    "        if line:\n",
    "            tn_quadkey.append(line)"
   ]
  },
  {
   "cell_type": "code",
   "execution_count": 3,
   "metadata": {},
   "outputs": [],
   "source": [
    "def binary_search(arr, key, to):\n",
    "    key = key[:to]\n",
    "    l, r = 0, len(arr)\n",
    "    while (l < r):\n",
    "        mid = l + (r-l)//2\n",
    "        if (arr[mid] > key):\n",
    "            r = mid\n",
    "        else:\n",
    "            l = mid+1\n",
    "    idx = l-1\n",
    "    if (idx < 0 or arr[idx] != key):\n",
    "        return -1\n",
    "    return idx"
   ]
  },
  {
   "cell_type": "code",
   "execution_count": 53,
   "metadata": {},
   "outputs": [],
   "source": [
    "def get_mobility(files, tn_quadkeys, to):\n",
    "    n_tiles = len(tn_quadkeys)\n",
    "    fb_mobility = None\n",
    "    date = None;\n",
    "    mobility_dir = '/mnt/d/books/iitm/agentBased/data/fb/mobility/'\n",
    "    for f in files:\n",
    "        df = pd.read_csv(f)\n",
    "        new_date = datetime.strptime(df.date_time[0], '%Y-%m-%d %H:%M').date()\n",
    "        if new_date != date:\n",
    "            if fb_mobility is not None:\n",
    "                mobility_file = join(mobility_dir, f'{str(date)}.csv')\n",
    "                np.savetxt(mobility_file, mobility, delimiter=\",\")\n",
    "                print(f'mobility data created for {date}')\n",
    "            date = new_date\n",
    "            fb_mobility = np.zeros((n_tiles, n_tiles))\n",
    "        df = df[df.country == 'IN']\n",
    "        base = df.n_baseline.to_numpy()\n",
    "        winsorized_mean = winsorize(base[~np.isnan(base)], [0.1, 0.2]).mean()\n",
    "        for idx, row in df.iterrows():\n",
    "            start, end = str(row['start_quadkey']), str(row['end_quadkey'])\n",
    "            i, j = binary_search(tn_quadkeys, start, to), binary_search(tn_quadkeys, end, to)\n",
    "            if (i != -1 and j != -1):\n",
    "                crisis = row['n_crisis']\n",
    "                if math.isnan(crisis):\n",
    "                    crisis = winsorized_mean * (1 + float(row['percent_change'])/100)\n",
    "                fb_mobility[i, j] += float(crisis)\n",
    "    if fb_mobility is not None:\n",
    "        mobility_file = join(mobility_dir, f'{str(date)}.csv')\n",
    "        np.savetxt(mobility_file, mobility, delimiter=\",\")\n",
    "        print(f'mobility data created for {date}')\n",
    "    return mobility_map"
   ]
  },
  {
   "cell_type": "code",
   "execution_count": 62,
   "metadata": {},
   "outputs": [
    {
     "name": "stdout",
     "output_type": "stream",
     "text": [
      "mobility data created for 2020-09-01\n",
      "mobility data created for 2020-09-02\n",
      "mobility data created for 2020-09-03\n",
      "mobility data created for 2020-09-04\n",
      "mobility data created for 2020-09-05\n",
      "mobility data created for 2020-09-06\n",
      "mobility data created for 2020-09-07\n",
      "mobility data created for 2020-09-08\n",
      "mobility data created for 2020-09-09\n",
      "mobility data created for 2020-09-10\n",
      "mobility data created for 2020-09-11\n",
      "mobility data created for 2020-09-12\n",
      "mobility data created for 2020-09-13\n",
      "mobility data created for 2020-09-14\n",
      "mobility data created for 2020-09-15\n",
      "mobility data created for 2020-09-16\n",
      "mobility data created for 2020-09-17\n",
      "mobility data created for 2020-09-18\n",
      "mobility data created for 2020-09-19\n",
      "mobility data created for 2020-09-20\n",
      "mobility data created for 2020-09-21\n",
      "mobility data created for 2020-09-22\n",
      "mobility data created for 2020-09-23\n",
      "mobility data created for 2020-09-24\n",
      "mobility data created for 2020-09-25\n",
      "mobility data created for 2020-09-26\n",
      "mobility data created for 2020-09-27\n",
      "mobility data created for 2020-09-28\n",
      "mobility data created for 2020-09-29\n",
      "mobility data created for 2020-09-30\n"
     ]
    }
   ],
   "source": [
    "mobility_map = get_mobility(files, tn_quadkey, 9)"
   ]
  },
  {
   "cell_type": "code",
   "execution_count": 14,
   "metadata": {},
   "outputs": [],
   "source": [
    "# convert mobility to distribution\n",
    "mobility_dir = '/mnt/d/books/iitm/agentBased/data/fb/mobility'\n",
    "mobility_save = '/mnt/d/books/iitm/agentBased/data/fb/mobility_final/'\n",
    "mobility_files = sorted([f for f in listdir(mobility_dir) if isfile(join(mobility_dir, f))])\n",
    "\n",
    "for f in mobility_files:\n",
    "    mobility = np.genfromtxt(join(mobility_dir, f), delimiter=',')\n",
    "    m, n = mobility.shape\n",
    "    for i in range(m):\n",
    "        for j in range(n):\n",
    "            if mobility[i, j] == 0:\n",
    "                mobility[i, j] = 1\n",
    "    mobility /= mobility.sum(axis=1, keepdims=True)\n",
    "    np.savetxt(join(mobility_save, f), mobility, delimiter=\",\")"
   ]
  },
  {
   "cell_type": "code",
   "execution_count": null,
   "metadata": {},
   "outputs": [],
   "source": [
    "# For testing purposes"
   ]
  },
  {
   "cell_type": "code",
   "execution_count": 35,
   "metadata": {},
   "outputs": [],
   "source": [
    "mobility = mobility_map['2020-05-01']\n",
    "m, n = mobility.shape\n",
    "for i in range(m):\n",
    "    for j in range(n):\n",
    "        if mobility[i, j] == 0:\n",
    "            mobility[i, j] = 1\n",
    "mobility /= mobility.sum(axis=1, keepdims=True)"
   ]
  },
  {
   "cell_type": "code",
   "execution_count": 40,
   "metadata": {},
   "outputs": [
    {
     "data": {
      "image/png": "[encoded data removed]",
      "text/plain": [
       "<Figure size 432x288 with 2 Axes>"
      ]
     },
     "metadata": {
      "needs_background": "light"
     },
     "output_type": "display_data"
    }
   ],
   "source": [
    "ax = sns.heatmap(mobility, linewidth=0.5)"
   ]
  },
  {
   "cell_type": "code",
   "execution_count": 41,
   "metadata": {},
   "outputs": [
    {
     "data": {
      "image/png": "[encoded data removed]",
      "text/plain": [
       "<Figure size 432x288 with 2 Axes>"
      ]
     },
     "metadata": {
      "needs_background": "light"
     },
     "output_type": "display_data"
    }
   ],
   "source": [
    "diag = np.diag(np.diag(mobility))\n",
    "without_diag = mobility - diag\n",
    "ax = sns.heatmap(without_diag, linewidth=0.5)"
   ]
  }
 ],
 "metadata": {
  "kernelspec": {
   "display_name": "Python 3 (ipykernel)",
   "language": "python",
   "name": "python3"
  },
  "language_info": {
   "codemirror_mode": {
    "name": "ipython",
    "version": 3
   },
   "file_extension": ".py",
   "mimetype": "text/x-python",
   "name": "python",
   "nbconvert_exporter": "python",
   "pygments_lexer": "ipython3",
   "version": "3.8.12"
  }
 },
 "nbformat": 4,
 "nbformat_minor": 4
}
