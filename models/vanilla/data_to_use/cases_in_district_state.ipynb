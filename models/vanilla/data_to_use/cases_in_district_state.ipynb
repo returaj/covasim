{
 "cells": [
  {
   "cell_type": "code",
   "execution_count": 1,
   "metadata": {},
   "outputs": [],
   "source": [
    "import pandas as pd\n",
    "import numpy as np\n",
    "from collections import defaultdict\n",
    "from datetime import datetime\n",
    "import matplotlib.pyplot as plt"
   ]
  },
  {
   "cell_type": "code",
   "execution_count": null,
   "metadata": {},
   "outputs": [],
   "source": [
    "## Dataset from incovid19 website"
   ]
  },
  {
   "cell_type": "code",
   "execution_count": null,
   "metadata": {},
   "outputs": [],
   "source": [
    "cases_file = '/mnt/d/books/iitm/agentBased/data/tn/incovid19/cases/original.csv'\n",
    "vaccine_file = '/mnt/d/books/iitm/agentBased/data/tn/incovid19/vaccine/original.csv'"
   ]
  },
  {
   "cell_type": "code",
   "execution_count": null,
   "metadata": {},
   "outputs": [],
   "source": [
    "types = {\n",
    "    \"Date\": \"string\",\n",
    "    \"State\": \"string\",\n",
    "    \"District\": \"string\",\n",
    "    \"Confirmed\": \"Int64\",\n",
    "    \"Recovered\": \"Int64\",\n",
    "    \"Deceased\": \"Int64\",\n",
    "    \"Other\": \"Int64\",\n",
    "    \"Tested\": \"Int64\"\n",
    "}\n",
    "df_cases = pd.read_csv(cases_file, sep=',', dtype=types)"
   ]
  },
  {
   "cell_type": "code",
   "execution_count": null,
   "metadata": {},
   "outputs": [],
   "source": [
    "tn_cases = df_cases[df_cases['State'] == 'Tamil Nadu'].reset_index(drop=True)\n",
    "tn_cases.rename(columns={\"Confirmed\":\"cum_confirmed\", \"Recovered\":\"cum_recovered\", \"Deceased\":\"cum_deceased\", \"Tested\":\"cum_tested\", \"State\":\"state\", \"District\":\"district\", \"Date\":\"date\", \"Other\":\"other\"}, inplace=True)\n",
    "tn_cases = tn_cases.sort_values('date').reset_index(drop=True)\n",
    "tn_cases.head(n=2)"
   ]
  },
  {
   "cell_type": "code",
   "execution_count": null,
   "metadata": {},
   "outputs": [],
   "source": [
    "fig, ax = plt.subplots(figsize=(15, 8))\n",
    "tn_cases[tn_cases['district'] == 'Chennai'].plot(ax=ax, kind='line', x='date', y='cum_confirmed')"
   ]
  },
  {
   "cell_type": "code",
   "execution_count": null,
   "metadata": {
    "scrolled": false
   },
   "outputs": [],
   "source": [
    "tn_cases[tn_cases['cum_tested'].notna() & (tn_cases['district'] == 'Erode')]"
   ]
  },
  {
   "cell_type": "code",
   "execution_count": null,
   "metadata": {
    "scrolled": true
   },
   "outputs": [],
   "source": [
    "def get_daily_cases(row, key, prev_cnt):\n",
    "    if  pd.isnull(row[key]) or row[key] == 0:\n",
    "        return 0\n",
    "    daily_cnt = row[key] - prev_cnt[row['district']]\n",
    "    if daily_cnt < 0:\n",
    "        # print(f'{row[\"date\"]} {row[\"district\"]} {row[key]} {prev_cnt[row[\"district\"]]}')\n",
    "        daily_cnt = 0\n",
    "    prev_cnt[row['district']] = row[key]\n",
    "    return daily_cnt"
   ]
  },
  {
   "cell_type": "code",
   "execution_count": null,
   "metadata": {},
   "outputs": [],
   "source": [
    "prev_confirmed_cnt = defaultdict(int)\n",
    "tn_cases['new_confirmed'] = tn_cases.apply(lambda row: get_daily_cases(row, 'cum_confirmed', prev_confirmed_cnt), axis=1)"
   ]
  },
  {
   "cell_type": "code",
   "execution_count": null,
   "metadata": {},
   "outputs": [],
   "source": [
    "prev_recovered_cnt = defaultdict(int)\n",
    "tn_cases['new_recovered'] = tn_cases.apply(lambda r: get_daily_cases(r, 'cum_recovered', prev_recovered_cnt), axis=1)"
   ]
  },
  {
   "cell_type": "code",
   "execution_count": null,
   "metadata": {
    "scrolled": true
   },
   "outputs": [],
   "source": [
    "prev_deceased_cnt = defaultdict(int)\n",
    "tn_cases['new_deceased'] = tn_cases.apply(lambda r: get_daily_cases(r, 'cum_deceased', prev_deceased_cnt), axis=1)"
   ]
  },
  {
   "cell_type": "code",
   "execution_count": null,
   "metadata": {},
   "outputs": [],
   "source": [
    "prev_tested_cnt = defaultdict(int)\n",
    "tn_cases['new_tested'] = tn_cases.apply(lambda r: get_daily_cases(r, 'cum_tested', prev_tested_cnt), axis=1)"
   ]
  },
  {
   "cell_type": "code",
   "execution_count": null,
   "metadata": {
    "scrolled": true
   },
   "outputs": [],
   "source": [
    "# tn_cases[tn_cases['district'] == 'Chennai'][325:375]\n",
    "tn_cases.head(n=2)"
   ]
  },
  {
   "cell_type": "code",
   "execution_count": null,
   "metadata": {},
   "outputs": [],
   "source": [
    "refactor_file = '/mnt/d/books/iitm/agentBased/data/tn/incovid19/cases/cases_district_refactor.csv'\n",
    "tn_cases.to_csv(refactor_file, sep=',', index=False, header=True)"
   ]
  },
  {
   "cell_type": "code",
   "execution_count": null,
   "metadata": {},
   "outputs": [],
   "source": []
  },
  {
   "cell_type": "code",
   "execution_count": null,
   "metadata": {},
   "outputs": [],
   "source": [
    "# State level"
   ]
  },
  {
   "cell_type": "code",
   "execution_count": 4,
   "metadata": {},
   "outputs": [],
   "source": [
    "state_file = \"/mnt/d/books/iitm/agentBased/data/tn/incovid19/state_wise/test_refactor.csv\"\n",
    "\n",
    "df_state = pd.read_csv(state_file, sep=',')"
   ]
  },
  {
   "cell_type": "code",
   "execution_count": 8,
   "metadata": {},
   "outputs": [
    {
     "data": {
      "text/html": [
       "<div>\n",
       "<style scoped>\n",
       "    .dataframe tbody tr th:only-of-type {\n",
       "        vertical-align: middle;\n",
       "    }\n",
       "\n",
       "    .dataframe tbody tr th {\n",
       "        vertical-align: top;\n",
       "    }\n",
       "\n",
       "    .dataframe thead th {\n",
       "        text-align: right;\n",
       "    }\n",
       "</style>\n",
       "<table border=\"1\" class=\"dataframe\">\n",
       "  <thead>\n",
       "    <tr style=\"text-align: right;\">\n",
       "      <th></th>\n",
       "      <th>date</th>\n",
       "      <th>state</th>\n",
       "      <th>cum_confirmed</th>\n",
       "      <th>cum_recovered</th>\n",
       "      <th>cum_deceased</th>\n",
       "      <th>other</th>\n",
       "      <th>cum_tested</th>\n",
       "      <th>new_tested</th>\n",
       "    </tr>\n",
       "  </thead>\n",
       "  <tbody>\n",
       "    <tr>\n",
       "      <th>0</th>\n",
       "      <td>2020-03-07</td>\n",
       "      <td>Tamil Nadu</td>\n",
       "      <td>1</td>\n",
       "      <td>0</td>\n",
       "      <td>0</td>\n",
       "      <td>0.0</td>\n",
       "      <td>NaN</td>\n",
       "      <td>0</td>\n",
       "    </tr>\n",
       "    <tr>\n",
       "      <th>1</th>\n",
       "      <td>2020-03-08</td>\n",
       "      <td>Tamil Nadu</td>\n",
       "      <td>1</td>\n",
       "      <td>0</td>\n",
       "      <td>0</td>\n",
       "      <td>0.0</td>\n",
       "      <td>NaN</td>\n",
       "      <td>0</td>\n",
       "    </tr>\n",
       "    <tr>\n",
       "      <th>2</th>\n",
       "      <td>2020-03-09</td>\n",
       "      <td>Tamil Nadu</td>\n",
       "      <td>1</td>\n",
       "      <td>0</td>\n",
       "      <td>0</td>\n",
       "      <td>0.0</td>\n",
       "      <td>NaN</td>\n",
       "      <td>0</td>\n",
       "    </tr>\n",
       "    <tr>\n",
       "      <th>3</th>\n",
       "      <td>2020-03-10</td>\n",
       "      <td>Tamil Nadu</td>\n",
       "      <td>1</td>\n",
       "      <td>0</td>\n",
       "      <td>0</td>\n",
       "      <td>0.0</td>\n",
       "      <td>NaN</td>\n",
       "      <td>0</td>\n",
       "    </tr>\n",
       "    <tr>\n",
       "      <th>4</th>\n",
       "      <td>2020-03-11</td>\n",
       "      <td>Tamil Nadu</td>\n",
       "      <td>1</td>\n",
       "      <td>0</td>\n",
       "      <td>0</td>\n",
       "      <td>0.0</td>\n",
       "      <td>NaN</td>\n",
       "      <td>0</td>\n",
       "    </tr>\n",
       "  </tbody>\n",
       "</table>\n",
       "</div>"
      ],
      "text/plain": [
       "         date       state  cum_confirmed  cum_recovered  cum_deceased  other  \\\n",
       "0  2020-03-07  Tamil Nadu              1              0             0    0.0   \n",
       "1  2020-03-08  Tamil Nadu              1              0             0    0.0   \n",
       "2  2020-03-09  Tamil Nadu              1              0             0    0.0   \n",
       "3  2020-03-10  Tamil Nadu              1              0             0    0.0   \n",
       "4  2020-03-11  Tamil Nadu              1              0             0    0.0   \n",
       "\n",
       "   cum_tested  new_tested  \n",
       "0         NaN           0  \n",
       "1         NaN           0  \n",
       "2         NaN           0  \n",
       "3         NaN           0  \n",
       "4         NaN           0  "
      ]
     },
     "execution_count": 8,
     "metadata": {},
     "output_type": "execute_result"
    }
   ],
   "source": [
    "df_state.head()"
   ]
  },
  {
   "cell_type": "code",
   "execution_count": 6,
   "metadata": {},
   "outputs": [],
   "source": [
    "def get_daily_cases(row, key, prev_cnt):\n",
    "    if  pd.isnull(row[key]) or row[key] == 0:\n",
    "        return 0\n",
    "    daily_cnt = row[key] - prev_cnt[key]\n",
    "    if daily_cnt < 0:\n",
    "        daily_cnt = 0\n",
    "    prev_cnt[key] = row[key]\n",
    "    return daily_cnt"
   ]
  },
  {
   "cell_type": "code",
   "execution_count": 9,
   "metadata": {},
   "outputs": [],
   "source": [
    "prev_confirmed_cnt = defaultdict(int)\n",
    "df_state['new_confirmed'] = df_state.apply(lambda row: get_daily_cases(row, \"cum_confirmed\", prev_confirmed_cnt), axis=1)"
   ]
  },
  {
   "cell_type": "code",
   "execution_count": 12,
   "metadata": {},
   "outputs": [],
   "source": [
    "prev_recovered_cnt = defaultdict(int)\n",
    "df_state['new_recovered'] = df_state.apply(lambda row: get_daily_cases(row, \"cum_recovered\", prev_recovered_cnt), axis=1)"
   ]
  },
  {
   "cell_type": "code",
   "execution_count": 13,
   "metadata": {},
   "outputs": [],
   "source": [
    "prev_deceased_cnt = defaultdict(int)\n",
    "df_state['new_deceased'] = df_state.apply(lambda row: get_daily_cases(row, \"cum_deceased\", prev_recovered_cnt), axis=1)"
   ]
  },
  {
   "cell_type": "code",
   "execution_count": 17,
   "metadata": {},
   "outputs": [
    {
     "data": {
      "text/html": [
       "<div>\n",
       "<style scoped>\n",
       "    .dataframe tbody tr th:only-of-type {\n",
       "        vertical-align: middle;\n",
       "    }\n",
       "\n",
       "    .dataframe tbody tr th {\n",
       "        vertical-align: top;\n",
       "    }\n",
       "\n",
       "    .dataframe thead th {\n",
       "        text-align: right;\n",
       "    }\n",
       "</style>\n",
       "<table border=\"1\" class=\"dataframe\">\n",
       "  <thead>\n",
       "    <tr style=\"text-align: right;\">\n",
       "      <th></th>\n",
       "      <th>date</th>\n",
       "      <th>state</th>\n",
       "      <th>cum_confirmed</th>\n",
       "      <th>cum_recovered</th>\n",
       "      <th>cum_deceased</th>\n",
       "      <th>other</th>\n",
       "      <th>cum_tested</th>\n",
       "      <th>new_tested</th>\n",
       "      <th>new_confirmed</th>\n",
       "      <th>new_recovered</th>\n",
       "      <th>new_deceased</th>\n",
       "    </tr>\n",
       "  </thead>\n",
       "  <tbody>\n",
       "    <tr>\n",
       "      <th>0</th>\n",
       "      <td>2020-03-07</td>\n",
       "      <td>Tamil Nadu</td>\n",
       "      <td>1</td>\n",
       "      <td>0</td>\n",
       "      <td>0</td>\n",
       "      <td>0.0</td>\n",
       "      <td>NaN</td>\n",
       "      <td>0</td>\n",
       "      <td>1</td>\n",
       "      <td>0</td>\n",
       "      <td>0</td>\n",
       "    </tr>\n",
       "    <tr>\n",
       "      <th>1</th>\n",
       "      <td>2020-03-08</td>\n",
       "      <td>Tamil Nadu</td>\n",
       "      <td>1</td>\n",
       "      <td>0</td>\n",
       "      <td>0</td>\n",
       "      <td>0.0</td>\n",
       "      <td>NaN</td>\n",
       "      <td>0</td>\n",
       "      <td>0</td>\n",
       "      <td>0</td>\n",
       "      <td>0</td>\n",
       "    </tr>\n",
       "    <tr>\n",
       "      <th>2</th>\n",
       "      <td>2020-03-09</td>\n",
       "      <td>Tamil Nadu</td>\n",
       "      <td>1</td>\n",
       "      <td>0</td>\n",
       "      <td>0</td>\n",
       "      <td>0.0</td>\n",
       "      <td>NaN</td>\n",
       "      <td>0</td>\n",
       "      <td>0</td>\n",
       "      <td>0</td>\n",
       "      <td>0</td>\n",
       "    </tr>\n",
       "    <tr>\n",
       "      <th>3</th>\n",
       "      <td>2020-03-10</td>\n",
       "      <td>Tamil Nadu</td>\n",
       "      <td>1</td>\n",
       "      <td>0</td>\n",
       "      <td>0</td>\n",
       "      <td>0.0</td>\n",
       "      <td>NaN</td>\n",
       "      <td>0</td>\n",
       "      <td>0</td>\n",
       "      <td>0</td>\n",
       "      <td>0</td>\n",
       "    </tr>\n",
       "    <tr>\n",
       "      <th>4</th>\n",
       "      <td>2020-03-11</td>\n",
       "      <td>Tamil Nadu</td>\n",
       "      <td>1</td>\n",
       "      <td>0</td>\n",
       "      <td>0</td>\n",
       "      <td>0.0</td>\n",
       "      <td>NaN</td>\n",
       "      <td>0</td>\n",
       "      <td>0</td>\n",
       "      <td>0</td>\n",
       "      <td>0</td>\n",
       "    </tr>\n",
       "  </tbody>\n",
       "</table>\n",
       "</div>"
      ],
      "text/plain": [
       "         date       state  cum_confirmed  cum_recovered  cum_deceased  other  \\\n",
       "0  2020-03-07  Tamil Nadu              1              0             0    0.0   \n",
       "1  2020-03-08  Tamil Nadu              1              0             0    0.0   \n",
       "2  2020-03-09  Tamil Nadu              1              0             0    0.0   \n",
       "3  2020-03-10  Tamil Nadu              1              0             0    0.0   \n",
       "4  2020-03-11  Tamil Nadu              1              0             0    0.0   \n",
       "\n",
       "   cum_tested  new_tested  new_confirmed  new_recovered  new_deceased  \n",
       "0         NaN           0              1              0             0  \n",
       "1         NaN           0              0              0             0  \n",
       "2         NaN           0              0              0             0  \n",
       "3         NaN           0              0              0             0  \n",
       "4         NaN           0              0              0             0  "
      ]
     },
     "execution_count": 17,
     "metadata": {},
     "output_type": "execute_result"
    }
   ],
   "source": [
    "df_state.head(n=5)"
   ]
  },
  {
   "cell_type": "code",
   "execution_count": 18,
   "metadata": {},
   "outputs": [],
   "source": [
    "refactor_file = '/mnt/d/books/iitm/agentBased/data/tn/incovid19/state_wise/daily_refactor.csv'\n",
    "df_state.to_csv(refactor_file, sep=',', index=False, header=True)"
   ]
  }
 ],
 "metadata": {
  "kernelspec": {
   "display_name": "Python 3 (ipykernel)",
   "language": "python",
   "name": "python3"
  },
  "language_info": {
   "codemirror_mode": {
    "name": "ipython",
    "version": 3
   },
   "file_extension": ".py",
   "mimetype": "text/x-python",
   "name": "python",
   "nbconvert_exporter": "python",
   "pygments_lexer": "ipython3",
   "version": "3.8.12"
  }
 },
 "nbformat": 4,
 "nbformat_minor": 4
}
