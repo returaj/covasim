{
 "cells": [
  {
   "cell_type": "code",
   "execution_count": 1,
   "metadata": {},
   "outputs": [
    {
     "name": "stdout",
     "output_type": "stream",
     "text": [
      "Covasim 3.0.7 (2021-06-29) — © 2021 by IDM\n"
     ]
    }
   ],
   "source": [
    "import covasim as cv\n",
    "import numpy as np\n",
    "\n",
    "cv.options.set(dpi=100, show=False, close=True, verbose=0) # Standard options for Jupyter notebook"
   ]
  },
  {
   "cell_type": "code",
   "execution_count": 2,
   "metadata": {},
   "outputs": [
    {
     "data": {
      "text/plain": [
       "<covasim.base.Result at 0x7f247bd9fdf0>\n",
       "————————————————————————————————————————————————————————————\n",
       "Properties:\n",
       "  npts                \n",
       "————————————————————————————————————————————————————————————\n",
       "color: #000000\n",
       " name: test1\n",
       "scale: True\n",
       "————————————————————————————————————————————————————————————\n",
       "values:\n",
       "array([0., 0., 0., 0., 0., 0., 0., 0., 0., 0.])"
      ]
     },
     "execution_count": 2,
     "metadata": {},
     "output_type": "execute_result"
    }
   ],
   "source": [
    "r1 = cv.Result(name='test1', npts=10)\n",
    "r1"
   ]
  },
  {
   "cell_type": "code",
   "execution_count": 3,
   "metadata": {},
   "outputs": [
    {
     "data": {
      "text/plain": [
       "Sim(<no label>; 2020-03-01 to 2020-03-06; pop: 20 random; epi: 20⚙, 0☠)"
      ]
     },
     "execution_count": 3,
     "metadata": {},
     "output_type": "execute_result"
    }
   ],
   "source": [
    "sim = cv.Sim(pop_size=20, n_days=5)\n",
    "sim.run()"
   ]
  },
  {
   "cell_type": "code",
   "execution_count": 19,
   "metadata": {},
   "outputs": [
    {
     "data": {
      "text/plain": [
       "['prevalence_by_variant',\n",
       " 'incidence_by_variant',\n",
       " 'cum_infections_by_variant',\n",
       " 'cum_symptomatic_by_variant',\n",
       " 'cum_severe_by_variant',\n",
       " 'cum_infectious_by_variant',\n",
       " 'new_infections_by_variant',\n",
       " 'new_symptomatic_by_variant',\n",
       " 'new_severe_by_variant',\n",
       " 'new_infectious_by_variant',\n",
       " 'n_exposed_by_variant',\n",
       " 'n_infectious_by_variant']"
      ]
     },
     "execution_count": 19,
     "metadata": {},
     "output_type": "execute_result"
    }
   ],
   "source": [
    "sim.result_keys('variant')"
   ]
  },
  {
   "cell_type": "code",
   "execution_count": null,
   "metadata": {
    "scrolled": true
   },
   "outputs": [],
   "source": [
    "result = sim.to_df()"
   ]
  },
  {
   "cell_type": "code",
   "execution_count": 5,
   "metadata": {},
   "outputs": [],
   "source": [
    "p = sim.people"
   ]
  },
  {
   "cell_type": "code",
   "execution_count": 35,
   "metadata": {},
   "outputs": [
    {
     "data": {
      "text/plain": [
       "['uid',\n",
       " 'age',\n",
       " 'sex',\n",
       " 'symp_prob',\n",
       " 'severe_prob',\n",
       " 'crit_prob',\n",
       " 'death_prob',\n",
       " 'rel_trans',\n",
       " 'rel_sus',\n",
       " 'n_infections']"
      ]
     },
     "execution_count": 35,
     "metadata": {},
     "output_type": "execute_result"
    }
   ],
   "source": [
    "# p.keys()  # all keys \n",
    "p.person_keys() # person key"
   ]
  },
  {
   "cell_type": "code",
   "execution_count": 39,
   "metadata": {},
   "outputs": [
    {
     "data": {
      "text/plain": [
       "array([[59,  0,  0,  0,  0,  1],\n",
       "       [78,  1,  0,  0,  0,  1],\n",
       "       [26,  0,  0,  0,  0,  1],\n",
       "       [53,  0,  0,  0,  0,  1],\n",
       "       [65,  0,  0,  0,  0,  1],\n",
       "       [67,  0,  1,  0,  0,  1],\n",
       "       [ 9,  0,  0,  0,  0,  1],\n",
       "       [ 1,  0,  0,  0,  0,  1],\n",
       "       [11,  0,  0,  0,  0,  1],\n",
       "       [65,  1,  0,  0,  0,  1],\n",
       "       [ 5,  0,  0,  0,  0,  1],\n",
       "       [33,  1,  0,  0,  0,  1],\n",
       "       [76,  0,  0,  0,  0,  1],\n",
       "       [36,  1,  0,  0,  0,  1],\n",
       "       [52,  0,  0,  0,  0,  1],\n",
       "       [25,  1,  0,  0,  0,  1],\n",
       "       [52,  0,  0,  0,  0,  1],\n",
       "       [60,  1,  0,  0,  0,  1],\n",
       "       [ 2,  0,  0,  0,  0,  1],\n",
       "       [58,  0,  0,  0,  0,  1]])"
      ]
     },
     "execution_count": 39,
     "metadata": {},
     "output_type": "execute_result"
    }
   ],
   "source": [
    "p.get(['age', 'sex', 'dead', 'death_prob', 'crit_prob', 'n_infections'])"
   ]
  },
  {
   "cell_type": "code",
   "execution_count": 58,
   "metadata": {},
   "outputs": [
    {
     "data": {
      "text/plain": [
       "array([ 0,  0,  0,  0,  0,  0,  0,  0,  0,  0,  0,  0,  0,  0,  1,  1,  1,\n",
       "        1,  1,  1,  1,  1,  1,  1,  1,  1,  2,  2,  2,  2,  2,  2,  2,  2,\n",
       "        2,  2,  3,  3,  3,  3,  3,  3,  3,  3,  3,  3,  3,  3,  4,  4,  4,\n",
       "        4,  4,  4,  4,  4,  5,  5,  5,  5,  5,  5,  5,  5,  6,  6,  6,  6,\n",
       "        6,  6,  6,  6,  7,  7,  7,  7,  7,  7,  7,  7,  7,  7,  8,  8,  8,\n",
       "        8,  8,  8,  8,  8,  9,  9,  9,  9,  9,  9,  9,  9, 10, 10, 10, 10,\n",
       "       10, 10, 10, 10, 11, 11, 11, 11, 11, 11, 11, 11, 12, 12, 12, 12, 12,\n",
       "       12, 12, 12, 13, 13, 13, 13, 13, 13, 13, 14, 14, 14, 14, 14, 14, 15,\n",
       "       15, 15, 15, 15, 15, 15, 15, 15, 15, 15, 15, 16, 16, 16, 16, 16, 16,\n",
       "       16, 16, 16, 17, 17, 17, 17, 17, 18, 18, 18, 18, 18, 18, 18, 18, 18,\n",
       "       18, 19, 19, 19, 19, 19, 19, 19, 19, 19, 19, 19, 19, 19, 19],\n",
       "      dtype=int32)"
      ]
     },
     "execution_count": 58,
     "metadata": {},
     "output_type": "execute_result"
    }
   ],
   "source": [
    "# p.layer_keys()\n",
    "p.contacts.values()[0]['p1']"
   ]
  },
  {
   "cell_type": "code",
   "execution_count": 53,
   "metadata": {},
   "outputs": [
    {
     "data": {
      "text/plain": [
       "<covasim.base.Person at 0x7f2478b924f0>\n",
       "————————————————————————————————————————————————————————————\n",
       "                  age: 59.944305\n",
       "             contacts: {'a': array([ 0,  1,  2,  4,  5,  6,  7,  8,\n",
       "                       9, 10, 11, 12 [...]\n",
       "            crit_prob: 0.12196078\n",
       "             critical: False\n",
       "        date_critical: nan\n",
       "            date_dead: nan\n",
       "       date_diagnosed: nan\n",
       "  date_end_quarantine: nan\n",
       "         date_exposed: 0.0\n",
       "      date_infectious: 5.0\n",
       "   date_known_contact: nan\n",
       "      date_known_dead: nan\n",
       "           date_naive: nan\n",
       "        date_pos_test: nan\n",
       "     date_quarantined: nan\n",
       "       date_recovered: 15.0\n",
       "          date_severe: nan\n",
       "     date_susceptible: nan\n",
       "     date_symptomatic: 7.0\n",
       "          date_tested: nan\n",
       "      date_vaccinated: nan\n",
       "                 dead: False\n",
       "           death_prob: 0.28403002\n",
       "            diagnosed: False\n",
       "          dur_disease: 15.0\n",
       "          dur_exp2inf: 5.0\n",
       "          dur_inf2sym: 2.0\n",
       "         dur_sev2crit: nan\n",
       "          dur_sym2sev: nan\n",
       "              exposed: False\n",
       "   exposed_by_variant: array([False])\n",
       "      exposed_variant: nan\n",
       "           infectious: False\n",
       "infectious_by_variant: array([False])\n",
       "   infectious_variant: nan\n",
       "        known_contact: False\n",
       "           known_dead: False\n",
       "         n_infections: 1\n",
       "                  nab: 0.0\n",
       "                naive: False\n",
       "             peak_nab: 0.0\n",
       "       prior_symptoms: 0.0\n",
       "          quarantined: False\n",
       "            recovered: True\n",
       "    recovered_variant: 0.0\n",
       "              rel_sus: 1.0\n",
       "            rel_trans: 0.25\n",
       "              sev_imm: array([0.], dtype=float32)\n",
       "               severe: False\n",
       "          severe_prob: 0.102\n",
       "                  sex: 0.0\n",
       "              sus_imm: array([0.], dtype=float32)\n",
       "          susceptible: False\n",
       "             symp_imm: array([0.], dtype=float32)\n",
       "            symp_prob: 0.75\n",
       "          symptomatic: False\n",
       "               tested: False\n",
       "                  uid: 0\n",
       "           vaccinated: False\n",
       "         vaccinations: 0\n",
       "       vaccine_source: 0\n",
       "————————————————————————————————————————————————————————————"
      ]
     },
     "execution_count": 53,
     "metadata": {},
     "output_type": "execute_result"
    }
   ],
   "source": [
    "p.person(0)"
   ]
  },
  {
   "cell_type": "code",
   "execution_count": 64,
   "metadata": {},
   "outputs": [
    {
     "data": {
      "image/png": "[encoded data removed]",
      "text/plain": [
       "<Figure size 600x400 with 1 Axes>"
      ]
     },
     "metadata": {},
     "output_type": "display_data"
    }
   ],
   "source": [
    "import networkx as nx\n",
    "\n",
    "sim = cv.Sim(pop_size=20, pop_type='hybrid', contacts=dict(h=3, s=0, w=0, c=0), n_days=5).run()\n",
    "G = sim.people.to_graph()\n",
    "nodes = G.nodes(data=True)\n",
    "edges = G.edges(keys=True)\n",
    "node_colors = [n['age'] for i,n in nodes]\n",
    "\n",
    "layer_map = dict(h='#37b', s='#e11', w='#4a4', c='#a49')\n",
    "edge_colors = [layer_map[G[i][j][k]['layer']] for i,j,k in edges]\n",
    "edge_weights = [G[i][j][k]['beta']*5 for i,j,k in edges]\n",
    "nx.draw(G, node_color=node_colors, edge_color=edge_colors, width=edge_weights, alpha=0.5)"
   ]
  },
  {
   "cell_type": "code",
   "execution_count": 9,
   "metadata": {},
   "outputs": [
    {
     "data": {
      "text/plain": [
       "dict_keys(['p1', 'p2', 'beta'])"
      ]
     },
     "execution_count": 9,
     "metadata": {},
     "output_type": "execute_result"
    }
   ],
   "source": [
    "p.contacts.values()[0].meta_keys()"
   ]
  },
  {
   "cell_type": "code",
   "execution_count": 26,
   "metadata": {},
   "outputs": [],
   "source": [
    "n=8; n_people=5\n",
    "p1 = np.random.randint(n_people, size=n)\n",
    "p2 = np.random.randint(n_people, size=n)\n",
    "beta = np.ones(n)\n",
    "layer = cv.Layer(p1=p1, p2=p2, beta=beta, label='rand')"
   ]
  },
  {
   "cell_type": "code",
   "execution_count": 32,
   "metadata": {},
   "outputs": [
    {
     "name": "stdout",
     "output_type": "stream",
     "text": [
      "p1: [1 1 1 0 4 1 0 0] \n",
      "p2: [3 2 1 0 3 1 1 3]\n"
     ]
    }
   ],
   "source": [
    "print(f'p1: {layer[\"p1\"]} \\np2: {layer[\"p2\"]}')"
   ]
  },
  {
   "cell_type": "code",
   "execution_count": 41,
   "metadata": {},
   "outputs": [
    {
     "data": {
      "text/plain": [
       "array([0, 1, 4], dtype=int32)"
      ]
     },
     "execution_count": 41,
     "metadata": {},
     "output_type": "execute_result"
    }
   ],
   "source": [
    "layer.find_contacts([3,2])"
   ]
  }
 ],
 "metadata": {
  "kernelspec": {
   "display_name": "Python 3 (ipykernel)",
   "language": "python",
   "name": "python3"
  },
  "language_info": {
   "codemirror_mode": {
    "name": "ipython",
    "version": 3
   },
   "file_extension": ".py",
   "mimetype": "text/x-python",
   "name": "python",
   "nbconvert_exporter": "python",
   "pygments_lexer": "ipython3",
   "version": "3.8.11"
  }
 },
 "nbformat": 4,
 "nbformat_minor": 4
}
