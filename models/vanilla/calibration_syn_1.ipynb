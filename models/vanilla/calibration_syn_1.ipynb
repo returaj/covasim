{
 "cells": [
  {
   "cell_type": "code",
   "execution_count": 1,
   "metadata": {},
   "outputs": [
    {
     "name": "stdout",
     "output_type": "stream",
     "text": [
      "Covasim 3.1.1 (2021-12-06) — © 2021 by IDM\n"
     ]
    }
   ],
   "source": [
    "import covasim as cv\n",
    "import numpy as np\n",
    "import pandas as pd\n",
    "from os.path import join\n",
    "import matplotlib.pyplot as plt\n",
    "import seaborn as sns\n",
    "\n",
    "cv.options.set(dpi=100, show=False, close=True, verbose=0) # Standard options for Jupyter notebook"
   ]
  },
  {
   "cell_type": "code",
   "execution_count": 2,
   "metadata": {},
   "outputs": [],
   "source": [
    "contact_dir = '/mnt/d/books/iitm/agentBased/codes/tn_contact_matrix/output/contact_matrix'\n",
    "home_path = join(contact_dir, 'home_contact.csv')\n",
    "school_path = join(contact_dir, 'school_contact.csv')\n",
    "work_path = join(contact_dir, 'work_contact.csv')\n",
    "community_path = join(contact_dir, 'community_contact.csv')"
   ]
  },
  {
   "cell_type": "code",
   "execution_count": 3,
   "metadata": {},
   "outputs": [],
   "source": [
    "fb_dir = '/mnt/d/books/iitm/agentBased/codes/covasim/models/data/'\n",
    "tile_path = join(fb_dir, 'tn_quadkey.csv')\n",
    "density_path = join(fb_dir, 'pop_density.csv')\n",
    "mobility_path = '/mnt/d/books/iitm/agentBased/data/fb/mobility/'"
   ]
  },
  {
   "cell_type": "code",
   "execution_count": 4,
   "metadata": {},
   "outputs": [],
   "source": [
    "case_datafile = '/mnt/d/books/iitm/agentBased/data/tn/incovid19/covasim/state_datafile.csv'"
   ]
  },
  {
   "cell_type": "code",
   "execution_count": 5,
   "metadata": {},
   "outputs": [],
   "source": [
    "# start_day, end_day = '2020-06-01', '2020-06-30'\n",
    "\n",
    "start_day, end_day = '2020-06-01', '2020-06-07'"
   ]
  },
  {
   "cell_type": "code",
   "execution_count": 6,
   "metadata": {},
   "outputs": [
    {
     "data": {
      "text/html": [
       "<div>\n",
       "<style scoped>\n",
       "    .dataframe tbody tr th:only-of-type {\n",
       "        vertical-align: middle;\n",
       "    }\n",
       "\n",
       "    .dataframe tbody tr th {\n",
       "        vertical-align: top;\n",
       "    }\n",
       "\n",
       "    .dataframe thead th {\n",
       "        text-align: right;\n",
       "    }\n",
       "</style>\n",
       "<table border=\"1\" class=\"dataframe\">\n",
       "  <thead>\n",
       "    <tr style=\"text-align: right;\">\n",
       "      <th></th>\n",
       "      <th>date</th>\n",
       "      <th>new_tests</th>\n",
       "      <th>new_diagnoses</th>\n",
       "      <th>new_recoveries</th>\n",
       "      <th>new_deaths</th>\n",
       "    </tr>\n",
       "  </thead>\n",
       "  <tbody>\n",
       "    <tr>\n",
       "      <th>86</th>\n",
       "      <td>2020-06-01</td>\n",
       "      <td>11377</td>\n",
       "      <td>1162</td>\n",
       "      <td>413</td>\n",
       "      <td>11</td>\n",
       "    </tr>\n",
       "    <tr>\n",
       "      <th>87</th>\n",
       "      <td>2020-06-02</td>\n",
       "      <td>11094</td>\n",
       "      <td>1091</td>\n",
       "      <td>536</td>\n",
       "      <td>13</td>\n",
       "    </tr>\n",
       "    <tr>\n",
       "      <th>88</th>\n",
       "      <td>2020-06-03</td>\n",
       "      <td>14101</td>\n",
       "      <td>1286</td>\n",
       "      <td>610</td>\n",
       "      <td>8</td>\n",
       "    </tr>\n",
       "    <tr>\n",
       "      <th>89</th>\n",
       "      <td>2020-06-04</td>\n",
       "      <td>16447</td>\n",
       "      <td>1384</td>\n",
       "      <td>585</td>\n",
       "      <td>15</td>\n",
       "    </tr>\n",
       "    <tr>\n",
       "      <th>90</th>\n",
       "      <td>2020-06-05</td>\n",
       "      <td>15692</td>\n",
       "      <td>1438</td>\n",
       "      <td>861</td>\n",
       "      <td>12</td>\n",
       "    </tr>\n",
       "  </tbody>\n",
       "</table>\n",
       "</div>"
      ],
      "text/plain": [
       "          date  new_tests  new_diagnoses  new_recoveries  new_deaths\n",
       "86  2020-06-01      11377           1162             413          11\n",
       "87  2020-06-02      11094           1091             536          13\n",
       "88  2020-06-03      14101           1286             610           8\n",
       "89  2020-06-04      16447           1384             585          15\n",
       "90  2020-06-05      15692           1438             861          12"
      ]
     },
     "execution_count": 6,
     "metadata": {},
     "output_type": "execute_result"
    }
   ],
   "source": [
    "df = pd.read_csv(case_datafile, delimiter=',')\n",
    "df = df[(df['date']>=start_day) & (df['date']<=end_day)]\n",
    "\n",
    "refactor_file = '/mnt/d/books/iitm/agentBased/data/tn/incovid19/covasim/tmp_datafile.csv'\n",
    "df.to_csv(refactor_file, sep=',', index=False, header=True)\n",
    "df.head(n=5)"
   ]
  },
  {
   "cell_type": "code",
   "execution_count": 7,
   "metadata": {},
   "outputs": [],
   "source": [
    "asymptotic_rate = 0.3\n",
    "pop_infected = (22333 - 12757) * (1 + asymptotic_rate)"
   ]
  },
  {
   "cell_type": "code",
   "execution_count": 8,
   "metadata": {},
   "outputs": [],
   "source": [
    "age_based_infection = [0.045455, 0.009091, 0.014773, 0.00000, 0.051136, 0.022727, 0.068182, 0.102273, 0.211364, 0.029924, 0.120833, 0.117424, 0.04697, 0.063636, 0.000000, 0.096212]\n",
    "tile_infection = [0.        , 0.00430416, 0.00215208, 0.04925873, 0.00023912,\n",
    "       0.00454328, 0.03778097, 0.02223816, 0.00621712, 0.15845688,\n",
    "       0.01721664, 0.17663   , 0.14506616, 0.01602104, 0.0215208 ,\n",
    "       0.0143472 , 0.04710665, 0.00701419, 0.04949785, 0.05499761,\n",
    "       0.02662203, 0.01960784, 0.01259366, 0.00557947, 0.01769488,\n",
    "       0.0263032 , 0.00557947, 0.00765184, 0.02941176, 0.0143472 ,\n",
    "       0.        ]"
   ]
  },
  {
   "cell_type": "code",
   "execution_count": 9,
   "metadata": {},
   "outputs": [
    {
     "data": {
      "text/plain": [
       "12448.800000000001"
      ]
     },
     "execution_count": 9,
     "metadata": {},
     "output_type": "execute_result"
    }
   ],
   "source": [
    "pop_infected"
   ]
  },
  {
   "cell_type": "code",
   "execution_count": null,
   "metadata": {},
   "outputs": [],
   "source": [
    "pars = dict(\n",
    "    start_day = start_day,\n",
    "    end_day = end_day,\n",
    "\n",
    "    pop_type = 'hybrid', # Use a more realistic population model\n",
    "    location = 'India-TamilNadu', # Use population characteristics for Tamil-Nadu\n",
    "\n",
    "    pop_size = 100_000,\n",
    "    pop_scale = 1,\n",
    "    rescale = True,\n",
    "    pop_infected = pop_infected,\n",
    "\n",
    "    home_matrix=home_path,\n",
    "    school_matrix = school_path,\n",
    "    work_matrix = work_path,\n",
    "    community_matrix = community_path,\n",
    "\n",
    "    tiles = tile_path,\n",
    "    pop_density = density_path,\n",
    "    mobility = mobility_path,\n",
    "\n",
    "    use_waning = True,\n",
    "    dynam_layer={'c': False},\n",
    "\n",
    "    init_infection={'tiles':tile_infection, 'ages':age_based_infection},\n",
    "    \n",
    "    beta=0.030216941498219296,\n",
    "    rel_death_prob=2.6190536217375318,\n",
    "\n",
    "    rand_seed=2\n",
    ")"
   ]
  },
  {
   "cell_type": "code",
   "execution_count": null,
   "metadata": {
    "scrolled": false
   },
   "outputs": [],
   "source": [
    "# Compare matrix model\n",
    "\n",
    "# sim = cv.Sim(pars, datafile=refactor_file, interventions=cv.test_num(daily_tests='data'))\n",
    "sim = cv.Sim(pars)\n",
    "sim.run(until='2020-06-04')\n",
    "\n",
    "# sim.plot(to_plot=['cum_infections', 'cum_reinfections']) # for 1lakhs"
   ]
  },
  {
   "cell_type": "code",
   "execution_count": null,
   "metadata": {},
   "outputs": [],
   "source": [
    "sim.results_ready"
   ]
  },
  {
   "cell_type": "code",
   "execution_count": null,
   "metadata": {},
   "outputs": [],
   "source": [
    "# 50_000 and 2 pop_scale \n",
    "\n",
    "pars = dict(\n",
    "    start_day = start_day,\n",
    "    end_day = end_day,\n",
    "\n",
    "    pop_type = 'matrix', # Use a more realistic population model\n",
    "    location = 'India-TamilNadu', # Use population characteristics for Tamil-Nadu\n",
    "\n",
    "    pop_size = 50_000,\n",
    "    pop_scale = 2,\n",
    "    rescale = True,\n",
    "    pop_infected = pop_infected,\n",
    "\n",
    "    home_matrix=home_path,\n",
    "    school_matrix = school_path,\n",
    "    work_matrix = work_path,\n",
    "    community_matrix = community_path,\n",
    "\n",
    "    tiles = tile_path,\n",
    "    pop_density = density_path,\n",
    "    mobility = mobility_path,\n",
    "\n",
    "    use_waning = True,\n",
    "    dynam_layer={'c': False},\n",
    "\n",
    "    init_infection={'tiles':tile_infection, 'ages':age_based_infection},\n",
    "    \n",
    "    beta=0.030216941498219296,\n",
    "    rel_death_prob=2.6190536217375318,\n",
    "\n",
    "    rand_seed=2\n",
    ")"
   ]
  },
  {
   "cell_type": "code",
   "execution_count": null,
   "metadata": {},
   "outputs": [],
   "source": [
    "# Compare matrix model\n",
    "\n",
    "# sim = cv.Sim(pars, datafile=refactor_file, interventions=cv.test_num(daily_tests='data'))\n",
    "sim = cv.Sim(pars)\n",
    "sim.run(until='2020-06-04')\n",
    "\n",
    "sim.plot(to_plot=['cum_infections', 'cum_reinfections']) # for 50lakhs *2 "
   ]
  },
  {
   "cell_type": "code",
   "execution_count": null,
   "metadata": {},
   "outputs": [],
   "source": [
    "date_v = sim.datevec.tolist()"
   ]
  },
  {
   "cell_type": "code",
   "execution_count": null,
   "metadata": {},
   "outputs": [],
   "source": [
    "sim.result_keys()"
   ]
  },
  {
   "cell_type": "code",
   "execution_count": null,
   "metadata": {},
   "outputs": [],
   "source": []
  },
  {
   "cell_type": "code",
   "execution_count": 10,
   "metadata": {},
   "outputs": [
    {
     "name": "stdout",
     "output_type": "stream",
     "text": [
      "Requirement already satisfied: optuna in /home/rburnwal/miniconda3/envs/covasim/lib/python3.8/site-packages (2.10.0)\n",
      "Requirement already satisfied: numpy in /home/rburnwal/miniconda3/envs/covasim/lib/python3.8/site-packages (from optuna) (1.20.3)\n",
      "Requirement already satisfied: scipy!=1.4.0 in /home/rburnwal/miniconda3/envs/covasim/lib/python3.8/site-packages (from optuna) (1.7.3)\n",
      "Requirement already satisfied: tqdm in /home/rburnwal/.local/lib/python3.8/site-packages (from optuna) (4.57.0)\n",
      "Requirement already satisfied: PyYAML in /home/rburnwal/miniconda3/envs/covasim/lib/python3.8/site-packages (from optuna) (6.0)\n",
      "Requirement already satisfied: colorlog in /home/rburnwal/miniconda3/envs/covasim/lib/python3.8/site-packages (from optuna) (6.6.0)\n",
      "Requirement already satisfied: sqlalchemy>=1.1.0 in /home/rburnwal/miniconda3/envs/covasim/lib/python3.8/site-packages (from optuna) (1.4.32)\n",
      "Requirement already satisfied: packaging>=20.0 in /home/rburnwal/.local/lib/python3.8/site-packages (from optuna) (20.7)\n",
      "Requirement already satisfied: alembic in /home/rburnwal/miniconda3/envs/covasim/lib/python3.8/site-packages (from optuna) (1.7.7)\n",
      "Requirement already satisfied: cmaes>=0.8.2 in /home/rburnwal/miniconda3/envs/covasim/lib/python3.8/site-packages (from optuna) (0.8.2)\n",
      "Requirement already satisfied: cliff in /home/rburnwal/miniconda3/envs/covasim/lib/python3.8/site-packages (from optuna) (3.10.1)\n",
      "Requirement already satisfied: pyparsing>=2.0.2 in /home/rburnwal/miniconda3/envs/covasim/lib/python3.8/site-packages (from packaging>=20.0->optuna) (3.0.6)\n",
      "Requirement already satisfied: greenlet!=0.4.17 in /home/rburnwal/miniconda3/envs/covasim/lib/python3.8/site-packages (from sqlalchemy>=1.1.0->optuna) (1.1.2)\n",
      "Requirement already satisfied: Mako in /home/rburnwal/miniconda3/envs/covasim/lib/python3.8/site-packages (from alembic->optuna) (1.2.0)\n",
      "Requirement already satisfied: importlib-metadata in /home/rburnwal/miniconda3/envs/covasim/lib/python3.8/site-packages (from alembic->optuna) (4.10.0)\n",
      "Requirement already satisfied: importlib-resources in /home/rburnwal/miniconda3/envs/covasim/lib/python3.8/site-packages (from alembic->optuna) (5.4.0)\n",
      "Requirement already satisfied: stevedore>=2.0.1 in /home/rburnwal/miniconda3/envs/covasim/lib/python3.8/site-packages (from cliff->optuna) (3.5.0)\n",
      "Requirement already satisfied: pbr!=2.1.0,>=2.0.0 in /home/rburnwal/miniconda3/envs/covasim/lib/python3.8/site-packages (from cliff->optuna) (5.8.1)\n",
      "Requirement already satisfied: cmd2>=1.0.0 in /home/rburnwal/miniconda3/envs/covasim/lib/python3.8/site-packages (from cliff->optuna) (2.4.0)\n",
      "Requirement already satisfied: autopage>=0.4.0 in /home/rburnwal/miniconda3/envs/covasim/lib/python3.8/site-packages (from cliff->optuna) (0.5.0)\n",
      "Requirement already satisfied: PrettyTable>=0.7.2 in /home/rburnwal/miniconda3/envs/covasim/lib/python3.8/site-packages (from cliff->optuna) (3.2.0)\n",
      "Requirement already satisfied: attrs>=16.3.0 in /home/rburnwal/miniconda3/envs/covasim/lib/python3.8/site-packages (from cmd2>=1.0.0->cliff->optuna) (21.2.0)\n",
      "Requirement already satisfied: pyperclip>=1.6 in /home/rburnwal/miniconda3/envs/covasim/lib/python3.8/site-packages (from cmd2>=1.0.0->cliff->optuna) (1.8.2)\n",
      "Requirement already satisfied: wcwidth>=0.1.7 in /home/rburnwal/.local/lib/python3.8/site-packages (from cmd2>=1.0.0->cliff->optuna) (0.2.5)\n",
      "Requirement already satisfied: zipp>=0.5 in /home/rburnwal/miniconda3/envs/covasim/lib/python3.8/site-packages (from importlib-metadata->alembic->optuna) (3.6.0)\n",
      "Requirement already satisfied: MarkupSafe>=0.9.2 in /home/rburnwal/miniconda3/envs/covasim/lib/python3.8/site-packages (from Mako->alembic->optuna) (2.0.1)\n"
     ]
    }
   ],
   "source": [
    "!pip install optuna"
   ]
  },
  {
   "cell_type": "code",
   "execution_count": 23,
   "metadata": {},
   "outputs": [
    {
     "data": {
      "text/plain": [
       "'2020-04-07'"
      ]
     },
     "execution_count": 23,
     "metadata": {},
     "output_type": "execute_result"
    }
   ],
   "source": [
    "from datetime import datetime, timedelta\n",
    "\n",
    "s = datetime.strptime('2020-04-01', '%Y-%m-%d') \n",
    "e = s + timedelta(days=6)\n",
    "e.strftime('%Y-%m-%d')"
   ]
  },
  {
   "cell_type": "code",
   "execution_count": 12,
   "metadata": {},
   "outputs": [],
   "source": [
    "# 50_000 and 2 pop_scale \n",
    "\n",
    "pars = dict(\n",
    "    start_day = start_day,\n",
    "    end_day = end_day,\n",
    "\n",
    "    pop_type = 'matrix', # Use a more realistic population model\n",
    "    location = 'India-TamilNadu', # Use population characteristics for Tamil-Nadu\n",
    "\n",
    "    pop_size = 50_000,\n",
    "    pop_scale = 2,\n",
    "    rescale = True,\n",
    "    pop_infected = pop_infected,\n",
    "\n",
    "    home_matrix=home_path,\n",
    "    school_matrix = school_path,\n",
    "    work_matrix = work_path,\n",
    "    community_matrix = community_path,\n",
    "\n",
    "    tiles = tile_path,\n",
    "    pop_density = density_path,\n",
    "    mobility = mobility_path,\n",
    "\n",
    "    use_waning = True,\n",
    "    dynam_layer={'c': True},\n",
    "\n",
    "    init_infection={'tiles':tile_infection, 'ages':age_based_infection},\n",
    "    \n",
    "    beta=0.030216941498219296,\n",
    "    rel_death_prob=2.6190536217375318,\n",
    "\n",
    "    rand_seed=2\n",
    ")"
   ]
  },
  {
   "cell_type": "code",
   "execution_count": 16,
   "metadata": {},
   "outputs": [
    {
     "name": "stdout",
     "output_type": "stream",
     "text": [
      "Removed existing calibration covasim_calibration.db\n"
     ]
    },
    {
     "name": "stderr",
     "output_type": "stream",
     "text": [
      "\u001b[32m[I 2022-04-14 10:33:15,822]\u001b[0m A new study created in RDB with name: covasim_calibration\u001b[0m\n",
      "\u001b[32m[I 2022-04-14 10:33:24,452]\u001b[0m Trial 0 finished with value: 257350.35714285716 and parameters: {'beta': 0.07942943083555327, 'rel_death_prob': 0.9219840895740584, 'work_changes': 0.21827321529036026, 'community_changes': 0.6715167408832268}. Best is trial 0 with value: 257350.35714285716.\u001b[0m\n",
      "\u001b[32m[I 2022-04-14 10:33:31,208]\u001b[0m Trial 1 finished with value: 254928.5 and parameters: {'beta': 0.030686877989562985, 'rel_death_prob': 0.8565375327022496, 'work_changes': 0.8428449820389515, 'community_changes': 0.413448493118449}. Best is trial 1 with value: 254928.5.\u001b[0m\n"
     ]
    },
    {
     "name": "stdout",
     "output_type": "stream",
     "text": [
      "Making results structure...\n",
      "Processed 2 trials; 0 failed\n",
      "Removed existing calibration covasim_calibration.db\n",
      "Calibration for 2 total trials completed in 16.5 s.\n",
      "\n",
      "Initial parameter values:\n",
      "#0. beta:              0.015\n",
      "#1. rel_death_prob:    1.0\n",
      "#2. work_changes:      0.3\n",
      "#3. community_changes: 0.3\n",
      "\n",
      "Best parameter values:\n",
      "#0. beta:              0.030686877989562985\n",
      "#1. community_changes: 0.413448493118449\n",
      "#2. rel_death_prob:    0.8565375327022496\n",
      "#3. work_changes:      0.8428449820389515\n",
      "\n",
      "Mismatch before calibration: 257375\n",
      "Mismatch after calibration:  254928\n",
      "Percent improvement:         1.0%\n"
     ]
    }
   ],
   "source": [
    "import sciris as sc\n",
    "\n",
    "pars['beta'] = 0.015\n",
    "pars['rel_death_prob'] = 1.0\n",
    "\n",
    "\n",
    "close_school = cv.clip_edges(days=0, changes=0, layers='s')\n",
    "reduce_work  = cv.clip_edges(days=0, changes=0.3, layers='w')\n",
    "reduce_community = cv.clip_edges(days=0, changes=0.3, layers='c')\n",
    "testing      = cv.test_num(daily_tests='data')\n",
    "\n",
    "sim = cv.Sim(pars=pars, datafile=refactor_file, interventions=[close_school, reduce_work, reduce_community, testing])\n",
    "\n",
    "calib_pars = dict(\n",
    "    beta           = [pars['beta'], 0.005, 0.20],\n",
    "    rel_death_prob = [pars['rel_death_prob'], 0.5, 3.0],\n",
    "    work_changes   = [0.3, 0.0, 1.0],\n",
    "    community_changes = [0.3, 0.0, 1.0]\n",
    ")\n",
    "\n",
    "\n",
    "def set_clip_edges(sim, calib_pars):\n",
    "    _, work, community = sim.get_interventions(cv.clip_edges)\n",
    "    work.changes = calib_pars['work_changes']\n",
    "    community.changes = calib_pars['community_changes']\n",
    "    return sim\n",
    "\n",
    "\n",
    "fit_args = dict(\n",
    "    weights = {'new_diagnoses': 0.25, 'new_recoveries': 0.25 , 'new_deaths': 0.5},\n",
    "    keys = ['new_diagnoses', 'new_recoveries', 'new_deaths'],\n",
    "    normalize=False,\n",
    "    use_squared=True,\n",
    "    as_scalar='mean',\n",
    "    die=False\n",
    ")\n",
    "\n",
    "n_trials = 2\n",
    "n_workers = 1\n",
    "calib = sim.calibrate(calib_pars=calib_pars, custom_fn=set_clip_edges, fit_args=fit_args, n_trials=n_trials, n_workers=n_workers)"
   ]
  },
  {
   "cell_type": "code",
   "execution_count": 41,
   "metadata": {},
   "outputs": [],
   "source": [
    "after = calib.after.copy()"
   ]
  },
  {
   "cell_type": "code",
   "execution_count": null,
   "metadata": {
    "scrolled": false
   },
   "outputs": [],
   "source": [
    "# # Custom objective running using scipy\n",
    "\n",
    "# import scipy\n",
    "\n",
    "# def objective(x, n_runs=10):\n",
    "#     print(f'Running sim for beta={x[0]}, rel_death_prob={x[1]}')\n",
    "#     pars = dict(\n",
    "#         start_day = start_day,\n",
    "#         end_day = end_day,\n",
    "\n",
    "#         pop_type = 'matrix', # Use a more realistic population model\n",
    "#         location = 'India-TamilNadu', # Use population characteristics for Tamil-Nadu\n",
    "\n",
    "#         pop_size = 700_000,\n",
    "#         pop_scale = 10,\n",
    "#         rescale = True,\n",
    "#         pop_infected = pop_infected,\n",
    "\n",
    "#         home_matrix=home_path,\n",
    "#         school_matrix = school_path,\n",
    "#         work_matrix = work_path,\n",
    "#         community_matrix = community_path,\n",
    "\n",
    "#         tiles = tile_path,\n",
    "#         pop_density = density_path,\n",
    "#         mobility = mobility_path,\n",
    "\n",
    "#         use_waning = True,\n",
    "#         dynam_layer={'c': True},\n",
    "\n",
    "#         init_infection={'tiles':tile_infection, 'ages':age_based_infection},\n",
    "\n",
    "#         beta           = x[0],\n",
    "#         rel_death_prob = x[1],\n",
    "#         verbose        = 0,\n",
    "#     )\n",
    "#     sim = cv.Sim(pars=pars, datafile=refactor_file, interventions=cv.test_num(daily_tests='data'))\n",
    "#     msim = cv.MultiSim(sim)\n",
    "#     msim.run(n_runs=n_runs)\n",
    "#     mismatches = []\n",
    "#     for sim in msim.sims:\n",
    "#         fit = sim.compute_fit()\n",
    "#         mismatches.append(fit.mismatch)\n",
    "#     mismatch = np.mean(mismatches)\n",
    "#     return mismatch\n",
    "\n",
    "# guess = [0.015, 1] # Initial guess of parameters -- beta and relative death probability\n",
    "# pars = scipy.optimize.minimize(objective, x0=guess, method='nelder-mead') # Run the optimization"
   ]
  },
  {
   "cell_type": "code",
   "execution_count": null,
   "metadata": {},
   "outputs": [],
   "source": []
  },
  {
   "cell_type": "code",
   "execution_count": null,
   "metadata": {},
   "outputs": [],
   "source": [
    "# Run calibrated model"
   ]
  },
  {
   "cell_type": "code",
   "execution_count": null,
   "metadata": {},
   "outputs": [],
   "source": [
    "start_day, end_day = '2020-06-01', '2020-07-31'\n",
    "\n",
    "df = pd.read_csv(case_datafile, delimiter=',')\n",
    "df = df[(df['date']>=start_day) & (df['date']<=end_day)]\n",
    "\n",
    "after_calib_file = '/mnt/d/books/iitm/agentBased/data/tn/incovid19/covasim/tmp_datafile_after_calibration.csv'\n",
    "df.to_csv(after_calib_file, sep=',', index=False, header=True)\n",
    "df.head(n=5)"
   ]
  },
  {
   "cell_type": "code",
   "execution_count": null,
   "metadata": {},
   "outputs": [],
   "source": [
    "pars = dict(\n",
    "    start_day = start_day,\n",
    "    end_day = end_day,\n",
    "\n",
    "    pop_type = 'matrix', # Use a more realistic population model\n",
    "    location = 'India-TamilNadu', # Use population characteristics for Tamil-Nadu\n",
    "\n",
    "    pop_size = 1_000_000,\n",
    "    pop_scale = 7,\n",
    "    rescale = True,\n",
    "    pop_infected = pop_infected,\n",
    "\n",
    "    home_matrix=home_path,\n",
    "    school_matrix = school_path,\n",
    "    work_matrix = work_path,\n",
    "    community_matrix = community_path,\n",
    "\n",
    "    tiles = tile_path,\n",
    "    pop_density = density_path,\n",
    "    mobility = mobility_path,\n",
    "\n",
    "    use_waning = True,\n",
    "    dynam_layer={'c': True},\n",
    "\n",
    "    init_infection={'tiles':tile_infection, 'ages':age_based_infection},\n",
    "    \n",
    "    beta=0.030216941498219296,\n",
    "    rel_death_prob=2.6190536217375318,\n",
    "\n",
    "    rand_seed=2\n",
    ")"
   ]
  },
  {
   "cell_type": "code",
   "execution_count": null,
   "metadata": {},
   "outputs": [],
   "source": [
    "sim = cv.Sim(pars, datafile=after_calib_file, interventions=cv.test_num(daily_tests='data'))\n",
    "sim.run()"
   ]
  },
  {
   "cell_type": "code",
   "execution_count": null,
   "metadata": {},
   "outputs": [],
   "source": [
    "sim.plot(to_plot=['new_diagnoses', 'new_deaths', 'new_recoveries'])"
   ]
  },
  {
   "cell_type": "code",
   "execution_count": null,
   "metadata": {},
   "outputs": [],
   "source": [
    "age_analyzer = cv.age_histogram(sim=sim, states=['severe', 'dead', 'tested', 'diagnosed'])\n",
    "age_analyzer.plot()"
   ]
  }
 ],
 "metadata": {
  "kernelspec": {
   "display_name": "Python 3 (ipykernel)",
   "language": "python",
   "name": "python3"
  },
  "language_info": {
   "codemirror_mode": {
    "name": "ipython",
    "version": 3
   },
   "file_extension": ".py",
   "mimetype": "text/x-python",
   "name": "python",
   "nbconvert_exporter": "python",
   "pygments_lexer": "ipython3",
   "version": "3.8.12"
  }
 },
 "nbformat": 4,
 "nbformat_minor": 4
}
