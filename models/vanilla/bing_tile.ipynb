{
 "cells": [
  {
   "cell_type": "code",
   "execution_count": 1,
   "metadata": {},
   "outputs": [
    {
     "name": "stdout",
     "output_type": "stream",
     "text": [
      "/mnt/d/books/iitm/agentBased/codes/covasim/models/vanilla\r\n"
     ]
    }
   ],
   "source": [
    "!pwd"
   ]
  },
  {
   "cell_type": "code",
   "execution_count": 2,
   "metadata": {},
   "outputs": [],
   "source": [
    "import math\n",
    "from os import listdir\n",
    "from os.path import isfile, join\n",
    "from datetime import datetime\n",
    "import numpy as np\n",
    "import geopandas as gpd\n",
    "import pandas as pd\n",
    "from pyproj import CRS\n",
    "from shapely.geometry import Polygon\n",
    "import matplotlib.pyplot as plt\n",
    "import seaborn as sns\n",
    "from scipy.stats.mstats import winsorize"
   ]
  },
  {
   "cell_type": "code",
   "execution_count": 3,
   "metadata": {},
   "outputs": [],
   "source": [
    "states = gpd.read_file('/mnt/d/books/iitm/agentBased/data/tn/states_shape/Admin2.shp')\n",
    "tn = states[states.ST_NM == 'Tamil Nadu']"
   ]
  },
  {
   "cell_type": "code",
   "execution_count": 4,
   "metadata": {},
   "outputs": [],
   "source": [
    "class TileSystem:\n",
    "    def __init__(self):\n",
    "        self.earth_radius = 63_78_137\n",
    "        self.min_latitude = -85.05112878\n",
    "        self.max_latitude = 85.05112878\n",
    "        self.min_longitude = -180\n",
    "        self.max_longitude = 180\n",
    "\n",
    "    @staticmethod\n",
    "    def clip(n, min_value, max_value):\n",
    "        return min(max(n, min_value), max_value)\n",
    "\n",
    "    def map_size(self, level_of_detail):\n",
    "        return 256 << level_of_detail\n",
    "\n",
    "    def ground_resolution(self, latitude, level_of_detail):\n",
    "        latitude = self.clip(latitude, self.min_latitude, self.max_latitude)\n",
    "        return np.cos(latitude * np.pi / 180) * 2 * np.pi * self.earth_radius / self.map_size(level_of_detail)\n",
    "    \n",
    "    def map_scale(self, latitude, level_of_detail, screen_dpi):\n",
    "        return self.ground_resolution(latitude, level_of_detail) * screen_dpi / 0.0254\n",
    "    \n",
    "    def lat_long_to_pixel(self, latitude, longitude, level_of_detail):\n",
    "        latitude = self.clip(latitude, self.min_latitude, self.max_latitude)\n",
    "        longitude = self.clip(longitude, self.min_longitude, self.max_longitude)\n",
    "        \n",
    "        x = (longitude + 180) / 360\n",
    "        sin_latitude = np.sin(latitude * np.pi / 180)\n",
    "        y = 0.5 - np.log((1 + sin_latitude) / (1 - sin_latitude)) / (4 * np.pi)\n",
    "        \n",
    "        map_size = self.map_size(level_of_detail)\n",
    "        \n",
    "        pixel_x = int(self.clip(x*map_size + 0.5, 0, map_size-1))\n",
    "        pixel_y = int(self.clip(y*map_size + 0.5, 0, map_size-1))\n",
    "        \n",
    "        return pixel_x, pixel_y\n",
    "    \n",
    "    def pixel_to_lat_long(self, pixel_x, pixel_y, level_of_detail):\n",
    "        map_size = self.map_size(level_of_detail)\n",
    "        x = (self.clip(pixel_x, 0, map_size-1) / map_size) - 0.5\n",
    "        y = 0.5 - (self.clip(pixel_y, 0, map_size-1) / map_size)\n",
    "        \n",
    "        latitude = 90 - 360*np.arctan(np.exp(-2 * np.pi * y)) / np.pi\n",
    "        longitude = 360 * x\n",
    "        \n",
    "        return latitude, longitude\n",
    "    \n",
    "    def pixel_to_tile(self, pixel_x, pixel_y):\n",
    "        tile_x = int(pixel_x / 256)\n",
    "        tile_y = int(pixel_y / 256)\n",
    "        return tile_x, tile_y\n",
    "\n",
    "    def tile_to_pixel(self, tile_x, tile_y):\n",
    "        pixel_x = tile_x * 256\n",
    "        pixel_y = tile_y * 256\n",
    "        return pixel_x, pixel_y\n",
    "\n",
    "    def tile_to_quadkey(self, tile_x, tile_y, level_of_detail):\n",
    "        quadkey = \"\"\n",
    "        for i in range(level_of_detail, 0, -1):\n",
    "            digit = 0\n",
    "            mask = 1 << (i-1)\n",
    "            if ((tile_x & mask) != 0):\n",
    "                digit += 1\n",
    "            if ((tile_y & mask) != 0):\n",
    "                digit += 2\n",
    "            quadkey += str(digit)\n",
    "        return quadkey\n",
    "    \n",
    "    def quadkey_to_tile(self, quadkey):\n",
    "        tile_x, tile_y = 0, 0\n",
    "        level_of_detail = len(quadkey)\n",
    "        for i in range(level_of_detail, 0, -1):\n",
    "            mask = 1 << (i-1)\n",
    "            if (quadkey[level_of_detail - i] == '0'):\n",
    "                continue\n",
    "            elif (quadkey[level_of_detail - i] == '1'):\n",
    "                tile_x |= mask\n",
    "            elif (quadkey[level_of_detail - i] == '2'):\n",
    "                tile_y |= mask\n",
    "            elif (quadkey[level_of_detail - i] == '3'):\n",
    "                tile_x |= mask\n",
    "                tile_y |= mask\n",
    "            else:\n",
    "                raise ValueError(f\"Invalid quadkey: {quadkey}\")\n",
    "        return level_of_detail, tile_x, tile_y"
   ]
  },
  {
   "cell_type": "code",
   "execution_count": 5,
   "metadata": {},
   "outputs": [],
   "source": [
    "ts = TileSystem()\n",
    "control_level = 9"
   ]
  },
  {
   "cell_type": "code",
   "execution_count": 6,
   "metadata": {},
   "outputs": [],
   "source": [
    "data_folder = '/mnt/d/books/iitm/agentBased/data/fb/Mobility_Tamil_Nadu_Coronavirus_Disease_Prevention_Map_Apr_07_2020_Id/2618166339883143_2020-05-03_2020-05-10_csv'\n",
    "\n",
    "files = sorted([join(data_folder, f) for f in listdir(data_folder) if isfile(join(data_folder, f))])"
   ]
  },
  {
   "cell_type": "code",
   "execution_count": 7,
   "metadata": {
    "scrolled": true
   },
   "outputs": [],
   "source": [
    "quadkeys = set()\n",
    "for f in files:\n",
    "    df = pd.read_csv(f)\n",
    "    df = df[df.country == 'IN']\n",
    "    quadkeys.update(df.start_quadkey)\n",
    "    quadkeys.update(df.end_quadkey)\n",
    "quadkeys = [str(qkey) for qkey in quadkeys]"
   ]
  },
  {
   "cell_type": "code",
   "execution_count": null,
   "metadata": {},
   "outputs": [],
   "source": [
    "control_qkeys = list(set([qkey[:control_level] for qkey in quadkeys]))"
   ]
  },
  {
   "cell_type": "code",
   "execution_count": 8,
   "metadata": {},
   "outputs": [
    {
     "data": {
      "text/plain": [
       "75971.76465442542"
      ]
     },
     "execution_count": 8,
     "metadata": {},
     "output_type": "execute_result"
    }
   ],
   "source": [
    "level, tx, ty = ts.quadkey_to_tile(str(control_qkeys[0]))\n",
    "px, py = ts.tile_to_pixel(tx, ty)\n",
    "lat, long = ts.pixel_to_lat_long(px, py, level)\n",
    "ts.ground_resolution(lat, level) * 256"
   ]
  },
  {
   "cell_type": "code",
   "execution_count": 9,
   "metadata": {},
   "outputs": [],
   "source": [
    "def square_shape(qkey, to=None):\n",
    "    qkey = str(qkey) if to is None else str(qkey)[:to]\n",
    "    level, tx, ty = ts.quadkey_to_tile(qkey)\n",
    "    px, py = ts.tile_to_pixel(tx, ty)\n",
    "    box = [(px, py), (px+256, py), (px+256, py+256), (px, py+256), (px, py)]\n",
    "    lats, longs = [], []\n",
    "    for x, y in box:        \n",
    "        lat, long = ts.pixel_to_lat_long(x, y, level)\n",
    "        lats.append(lat); longs.append(long)\n",
    "    return Polygon(zip(longs, lats))"
   ]
  },
  {
   "cell_type": "code",
   "execution_count": 10,
   "metadata": {},
   "outputs": [],
   "source": [
    "geometry = [square_shape(qkey, control_level) for qkey in control_qkeys]\n",
    "qdf = pd.DataFrame({'qkeys': control_qkeys})\n",
    "tiles = gpd.GeoDataFrame(qdf, crs=CRS(\"WGS84\"), geometry=geometry)"
   ]
  },
  {
   "cell_type": "code",
   "execution_count": 11,
   "metadata": {
    "scrolled": true
   },
   "outputs": [
    {
     "data": {
      "image/png": "[encoded data removed]",
      "text/plain": [
       "<Figure size 432x288 with 1 Axes>"
      ]
     },
     "metadata": {
      "needs_background": "light"
     },
     "output_type": "display_data"
    }
   ],
   "source": [
    "ax = tn.plot(color='white', edgecolor='red')\n",
    "tiles.plot(ax = ax, color='none', edgecolor='black' )\n",
    "plt.show()"
   ]
  },
  {
   "cell_type": "code",
   "execution_count": 12,
   "metadata": {},
   "outputs": [],
   "source": [
    "aoi = gpd.overlay(tiles, tn, how='intersection')"
   ]
  },
  {
   "cell_type": "code",
   "execution_count": 13,
   "metadata": {},
   "outputs": [
    {
     "data": {
      "text/plain": [
       "<AxesSubplot:>"
      ]
     },
     "execution_count": 13,
     "metadata": {},
     "output_type": "execute_result"
    },
    {
     "data": {
      "image/png": "[encoded data removed]",
      "text/plain": [
       "<Figure size 432x288 with 1 Axes>"
      ]
     },
     "metadata": {
      "needs_background": "light"
     },
     "output_type": "display_data"
    }
   ],
   "source": [
    "aoi.plot(edgecolor='red')"
   ]
  },
  {
   "cell_type": "code",
   "execution_count": 14,
   "metadata": {},
   "outputs": [],
   "source": [
    "tn_quadkeys = sorted(aoi.qkeys.to_list())"
   ]
  },
  {
   "cell_type": "code",
   "execution_count": 15,
   "metadata": {},
   "outputs": [],
   "source": [
    "def binary_search(arr, key, to):\n",
    "    key = key[:to]\n",
    "    l, r = 0, len(arr)\n",
    "    while (l < r):\n",
    "        mid = l + (r-l)//2\n",
    "        if (arr[mid] > key):\n",
    "            r = mid\n",
    "        else:\n",
    "            l = mid+1\n",
    "    idx = l-1\n",
    "    if (idx < 0 or arr[idx] != key):\n",
    "        return -1\n",
    "    return idx"
   ]
  },
  {
   "cell_type": "markdown",
   "metadata": {},
   "source": [
    "#### Mobility Matrix"
   ]
  },
  {
   "cell_type": "code",
   "execution_count": 16,
   "metadata": {
    "scrolled": true
   },
   "outputs": [],
   "source": [
    "def get_mobility(files, tn_quadkeys, to):\n",
    "    n_tiles = len(tn_quadkeys)\n",
    "    fb_mobility = np.zeros((n_tiles, n_tiles))\n",
    "    date = None; days = 0;\n",
    "    for f in files:\n",
    "        df = pd.read_csv(f)\n",
    "        new_date = datetime.strptime(df.date_time[0], '%Y-%m-%d %H:%M').date()\n",
    "        if new_date != date:\n",
    "            days += 1\n",
    "            date = new_date\n",
    "        df = df[df.country == 'IN']\n",
    "        base = df.n_baseline.to_numpy()\n",
    "        winsorized_mean = winsorize(base[~np.isnan(base)], [0.1, 0.2]).mean()\n",
    "        for idx, row in df.iterrows():\n",
    "            start, end = str(row['start_quadkey']), str(row['end_quadkey'])\n",
    "            i, j = binary_search(tn_quadkeys, start, to), binary_search(tn_quadkeys, end, to)\n",
    "            if (i != -1 and j != -1):\n",
    "                crisis = row['n_crisis']\n",
    "                if math.isnan(crisis):\n",
    "                    crisis = winsorized_mean * (1 + float(row['percent_change'])/100)\n",
    "                fb_mobility[i, j] += float(crisis)\n",
    "    fb_mobility /= days\n",
    "    return fb_mobility"
   ]
  },
  {
   "cell_type": "code",
   "execution_count": 17,
   "metadata": {
    "scrolled": true
   },
   "outputs": [],
   "source": [
    "mobility = get_mobility(files, tn_quadkeys, to=control_level)"
   ]
  },
  {
   "cell_type": "code",
   "execution_count": 18,
   "metadata": {},
   "outputs": [],
   "source": [
    "m, n = mobility.shape\n",
    "for i in range(m):\n",
    "    for j in range(n):\n",
    "        if mobility[i, j] == 0:\n",
    "            mobility[i, j] = 1\n",
    "mobility /= mobility.sum(axis=1)[:, np.newaxis]"
   ]
  },
  {
   "cell_type": "code",
   "execution_count": 19,
   "metadata": {},
   "outputs": [],
   "source": [
    "diag = np.diag(np.diag(mobility))\n",
    "without_diag = mobility - diag"
   ]
  },
  {
   "cell_type": "code",
   "execution_count": 20,
   "metadata": {},
   "outputs": [
    {
     "data": {
      "image/png": "[encoded data removed]",
      "text/plain": [
       "<Figure size 432x288 with 2 Axes>"
      ]
     },
     "metadata": {
      "needs_background": "light"
     },
     "output_type": "display_data"
    }
   ],
   "source": [
    "ax = sns.heatmap(without_diag, linewidth=0.5)\n",
    "plt.show()"
   ]
  },
  {
   "cell_type": "markdown",
   "metadata": {},
   "source": [
    "### Population Distribution Matrix"
   ]
  },
  {
   "cell_type": "code",
   "execution_count": 21,
   "metadata": {},
   "outputs": [],
   "source": [
    "pop_folder = '/mnt/d/books/iitm/agentBased/data/fb/Population_Tamil_Nadu_Coronavirus_Disease_Prevention_Map_Apr_07_2020_Id/771489218264088_2020-05-03_2020-05-11_csv'\n",
    "\n",
    "pop_files = sorted([join(pop_folder, f) for f in listdir(pop_folder) if isfile(join(pop_folder, f))])"
   ]
  },
  {
   "cell_type": "code",
   "execution_count": 27,
   "metadata": {},
   "outputs": [],
   "source": [
    "def get_population_density(files, tn_quadkeys, to):\n",
    "    n_tiles = len(tn_quadkeys)\n",
    "    fb_population = np.zeros(n_tiles)\n",
    "    date = None; days = 0;\n",
    "    for f in files:\n",
    "        df = pd.read_csv(f)\n",
    "        new_date = datetime.strptime(df.date_time[0], '%Y-%m-%d %H:%M').date()\n",
    "        if new_date != date:\n",
    "            days += 1\n",
    "            date = new_date\n",
    "        df = df[df.country == 'IN']\n",
    "        base = df.n_baseline.to_numpy()\n",
    "        winsorized_mean = winsorize(base[~np.isnan(base)], [0.1, 0.2]).mean()\n",
    "        for idx, row in df.iterrows():\n",
    "            qkey = str(row['quadkey'])\n",
    "            pos = binary_search(tn_quadkeys, qkey, to)\n",
    "            if pos != -1:\n",
    "                crisis = row['n_crisis']\n",
    "                if math.isnan(crisis):\n",
    "                    crisis = winsorized_mean * (1 + float(row['percent_change'])/100)\n",
    "                fb_population[pos] += float(crisis)\n",
    "    fb_population /= days\n",
    "    return fb_population"
   ]
  },
  {
   "cell_type": "code",
   "execution_count": 28,
   "metadata": {},
   "outputs": [],
   "source": [
    "population = get_population_density(pop_files, tn_quadkeys, control_level)"
   ]
  },
  {
   "cell_type": "code",
   "execution_count": 29,
   "metadata": {},
   "outputs": [
    {
     "data": {
      "image/png": "[encoded data removed]",
      "text/plain": [
       "<Figure size 432x288 with 1 Axes>"
      ]
     },
     "metadata": {
      "needs_background": "light"
     },
     "output_type": "display_data"
    }
   ],
   "source": [
    "plt.bar(np.arange(len(population)), population)\n",
    "plt.show()"
   ]
  },
  {
   "cell_type": "code",
   "execution_count": 31,
   "metadata": {},
   "outputs": [],
   "source": [
    "density = population / np.sum(population)"
   ]
  },
  {
   "cell_type": "code",
   "execution_count": 32,
   "metadata": {},
   "outputs": [
    {
     "data": {
      "image/png": "[encoded data removed]",
      "text/plain": [
       "<Figure size 432x288 with 1 Axes>"
      ]
     },
     "metadata": {
      "needs_background": "light"
     },
     "output_type": "display_data"
    }
   ],
   "source": [
    "plt.bar(np.arange(len(density)), density)\n",
    "plt.show()"
   ]
  },
  {
   "cell_type": "code",
   "execution_count": 36,
   "metadata": {
    "scrolled": true
   },
   "outputs": [
    {
     "ename": "ModuleNotFoundError",
     "evalue": "No module named 'geoplot'",
     "output_type": "error",
     "traceback": [
      "\u001b[0;31m---------------------------------------------------------------------------\u001b[0m",
      "\u001b[0;31mModuleNotFoundError\u001b[0m                       Traceback (most recent call last)",
      "\u001b[0;32m<ipython-input-36-3916336930a7>\u001b[0m in \u001b[0;36m<module>\u001b[0;34m\u001b[0m\n\u001b[0;32m----> 1\u001b[0;31m \u001b[0;32mimport\u001b[0m \u001b[0mgeoplot\u001b[0m\u001b[0;34m\u001b[0m\u001b[0;34m\u001b[0m\u001b[0m\n\u001b[0m",
      "\u001b[0;31mModuleNotFoundError\u001b[0m: No module named 'geoplot'"
     ]
    }
   ],
   "source": [
    "import geoplot"
   ]
  }
 ],
 "metadata": {
  "kernelspec": {
   "display_name": "Python 3",
   "language": "python",
   "name": "python3"
  },
  "language_info": {
   "codemirror_mode": {
    "name": "ipython",
    "version": 3
   },
   "file_extension": ".py",
   "mimetype": "text/x-python",
   "name": "python",
   "nbconvert_exporter": "python",
   "pygments_lexer": "ipython3",
   "version": "3.8.12"
  }
 },
 "nbformat": 4,
 "nbformat_minor": 4
}
