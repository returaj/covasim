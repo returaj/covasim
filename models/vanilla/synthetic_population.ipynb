{
 "cells": [
  {
   "cell_type": "code",
   "execution_count": 1,
   "metadata": {},
   "outputs": [
    {
     "name": "stdout",
     "output_type": "stream",
     "text": [
      "Covasim 3.1.1 (2021-12-06) — © 2021 by IDM\n"
     ]
    }
   ],
   "source": [
    "import covasim as cv\n",
    "import numpy as np\n",
    "from os.path import join\n",
    "import matplotlib.pyplot as plt\n",
    "import seaborn as sns\n",
    "\n",
    "cv.options.set(dpi=100, show=False, close=True, verbose=0) # Standard options for Jupyter notebook"
   ]
  },
  {
   "cell_type": "code",
   "execution_count": 2,
   "metadata": {},
   "outputs": [],
   "source": [
    "contact_dir = '/mnt/d/books/iitm/agentBased/codes/tn_contact_matrix/output/contact_matrix'\n",
    "home_path = join(contact_dir, 'home_contact.csv')\n",
    "school_path = join(contact_dir, 'school_contact.csv')\n",
    "work_path = join(contact_dir, 'work_contact.csv')\n",
    "community_path = join(contact_dir, 'community_contact.csv')"
   ]
  },
  {
   "cell_type": "code",
   "execution_count": 3,
   "metadata": {},
   "outputs": [],
   "source": [
    "fb_dir = '/mnt/d/books/iitm/agentBased/codes/covasim/models/data/'\n",
    "tile_path = join(fb_dir, 'tn_quadkey.csv')\n",
    "density_path = join(fb_dir, 'pop_density.csv')\n",
    "mobility_path = join(fb_dir, 'mobility_matrix.csv')"
   ]
  },
  {
   "cell_type": "code",
   "execution_count": 4,
   "metadata": {},
   "outputs": [],
   "source": [
    "pars = dict(\n",
    "    start_day = '2021-04-01',\n",
    "    end_day = '2021-04-02',\n",
    "\n",
    "    pop_type = 'matrix', # Use a more realistic population model\n",
    "    location = 'India-TamilNadu', # Use population characteristics for Tamil-Nadu\n",
    "\n",
    "    pop_size = 1_000_000,\n",
    "    pop_scale = 1,\n",
    "    rescale = True,\n",
    "    pop_infected = 50,\n",
    "\n",
    "    home_matrix=home_path,\n",
    "    school_matrix = school_path,\n",
    "    work_matrix = work_path,\n",
    "    community_matrix = community_path,\n",
    "\n",
    "    tiles = tile_path,\n",
    "    pop_density = density_path,\n",
    "    mobility = mobility_path,\n",
    "\n",
    "    use_waning = False,\n",
    "    dynam_layer={'c': True},\n",
    "    \n",
    "    rand_seed=658\n",
    ")"
   ]
  },
  {
   "cell_type": "code",
   "execution_count": null,
   "metadata": {
    "scrolled": true
   },
   "outputs": [],
   "source": [
    "# Compare matrix model\n",
    "\n",
    "pars['pop_type'] = 'matrix'\n",
    "sim = cv.Sim(pars)\n",
    "sim.run()"
   ]
  },
  {
   "cell_type": "code",
   "execution_count": null,
   "metadata": {
    "scrolled": true
   },
   "outputs": [],
   "source": [
    "# Compare hybrid model\n",
    "\n",
    "pars['pop_type'] = 'hybrid'\n",
    "pars['contacts'] = {'h':4,'s':10,'w':6,'c':10},\n",
    "\n",
    "sim = cv.Sim(pars)\n",
    "sim.run()"
   ]
  },
  {
   "cell_type": "code",
   "execution_count": 6,
   "metadata": {},
   "outputs": [],
   "source": [
    "hm = np.genfromtxt(home_path, delimiter=' ')"
   ]
  },
  {
   "cell_type": "code",
   "execution_count": 7,
   "metadata": {},
   "outputs": [
    {
     "data": {
      "text/plain": [
       "array([0.        , 0.02009978, 0.06715793, 1.51666288, 3.56230619,\n",
       "       5.87565966, 6.45756556, 6.98197331, 7.51767586, 6.47291291,\n",
       "       6.60131934, 5.88003053, 3.6604147 , 2.54146393, 1.0526835 ,\n",
       "       0.82703653])"
      ]
     },
     "execution_count": 7,
     "metadata": {},
     "output_type": "execute_result"
    }
   ],
   "source": [
    "wm = np.genfromtxt(work_path, delimiter=' ')\n",
    "wm.sum(axis=1)"
   ]
  },
  {
   "cell_type": "code",
   "execution_count": 8,
   "metadata": {},
   "outputs": [
    {
     "data": {
      "text/plain": [
       "array([2.143303  , 9.22823777, 9.1279023 , 6.90019711, 0.90758055,\n",
       "       0.04695974, 0.11402193, 0.09017596, 0.121294  , 0.21211401,\n",
       "       0.32936892, 0.31311653, 0.11268262, 0.02438299, 0.        ,\n",
       "       0.        ])"
      ]
     },
     "execution_count": 8,
     "metadata": {},
     "output_type": "execute_result"
    }
   ],
   "source": [
    "sm = np.genfromtxt(school_path, delimiter=' ')\n",
    "sm.sum(axis=1)"
   ]
  },
  {
   "cell_type": "code",
   "execution_count": 9,
   "metadata": {
    "scrolled": true
   },
   "outputs": [
    {
     "data": {
      "text/plain": [
       "array([ 6.64938223,  8.44696249, 11.12899482, 14.11002874, 11.06223867,\n",
       "        6.85237497,  5.18743544,  4.41114584,  3.55536578,  2.24051642,\n",
       "        2.5807865 ,  2.18726942,  1.6515905 ,  1.39990898,  1.25203342,\n",
       "        0.62490823])"
      ]
     },
     "execution_count": 9,
     "metadata": {},
     "output_type": "execute_result"
    }
   ],
   "source": [
    "cm = np.genfromtxt(community_path, delimiter=',')\n",
    "cm.sum(axis=1)"
   ]
  },
  {
   "cell_type": "code",
   "execution_count": null,
   "metadata": {},
   "outputs": [],
   "source": [
    "## School:\n",
    "# 1. May be the actual school contacts are normalized by the total number of school going children. Verify?\n",
    "# Sol: Implementation error \n",
    "# 2. How is matrix based school contact generation different from random contacts\n",
    "# Sol: Done\n",
    "# 3. Can we do some form of visualization using networkx"
   ]
  }
 ],
 "metadata": {
  "kernelspec": {
   "display_name": "Python 3 (ipykernel)",
   "language": "python",
   "name": "python3"
  },
  "language_info": {
   "codemirror_mode": {
    "name": "ipython",
    "version": 3
   },
   "file_extension": ".py",
   "mimetype": "text/x-python",
   "name": "python",
   "nbconvert_exporter": "python",
   "pygments_lexer": "ipython3",
   "version": "3.8.12"
  }
 },
 "nbformat": 4,
 "nbformat_minor": 4
}
