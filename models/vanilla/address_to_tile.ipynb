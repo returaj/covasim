{
 "cells": [
  {
   "cell_type": "code",
   "execution_count": 1,
   "metadata": {},
   "outputs": [],
   "source": [
    "import re\n",
    "from collections import defaultdict\n",
    "import pandas as pd\n",
    "import numpy as np\n",
    "from os import listdir\n",
    "from os.path import isfile, join"
   ]
  },
  {
   "cell_type": "code",
   "execution_count": 2,
   "metadata": {},
   "outputs": [],
   "source": [
    "pd.set_option('display.max_colwidth', None)"
   ]
  },
  {
   "cell_type": "code",
   "execution_count": 3,
   "metadata": {},
   "outputs": [],
   "source": [
    "hosp_dir = '/mnt/d/books/iitm/agentBased/data/tn/covid_war_room/positive_cases/'\n",
    "pat_file = '/mnt/d/books/iitm/agentBased/data/tn/covid_war_room/patient_data/combined_csv.csv'"
   ]
  },
  {
   "cell_type": "code",
   "execution_count": 4,
   "metadata": {},
   "outputs": [],
   "source": [
    "# hdf = pd.read_excel(join(hosp_dir, 'NCDC_ICMR-report_1_To_50000_2021-10-21 15_29_42.xlsx'))\n",
    "list_df = []\n",
    "cnt = 0\n",
    "for f in listdir(hosp_dir):\n",
    "    filepath = join(hosp_dir, f)\n",
    "    if isfile(filepath):\n",
    "        tmp_df = pd.read_excel(filepath)\n",
    "        list_df.append(tmp_df)\n",
    "        cnt += 1\n",
    "    if cnt == 2:\n",
    "        break"
   ]
  },
  {
   "cell_type": "code",
   "execution_count": 5,
   "metadata": {},
   "outputs": [
    {
     "data": {
      "text/plain": [
       "100000"
      ]
     },
     "execution_count": 5,
     "metadata": {},
     "output_type": "execute_result"
    }
   ],
   "source": [
    "hdf = pd.concat(list_df, ignore_index=True)\n"
   ]
  },
  {
   "cell_type": "code",
   "execution_count": 20,
   "metadata": {},
   "outputs": [
    {
     "data": {
      "text/plain": [
       "array(['CHENGALPATTU', 'CHENNAI'], dtype=object)"
      ]
     },
     "execution_count": 20,
     "metadata": {},
     "output_type": "execute_result"
    }
   ],
   "source": [
    "hdf['NCDC District'].unique()"
   ]
  },
  {
   "cell_type": "code",
   "execution_count": 6,
   "metadata": {},
   "outputs": [
    {
     "data": {
      "text/plain": [
       "94787"
      ]
     },
     "execution_count": 6,
     "metadata": {},
     "output_type": "execute_result"
    }
   ],
   "source": [
    "not_nan_df = hdf[hdf['Present Address'].notna()]\n",
    "len(not_nan_df)"
   ]
  },
  {
   "cell_type": "code",
   "execution_count": 7,
   "metadata": {},
   "outputs": [],
   "source": [
    "district_path = '/mnt/d/books/iitm/agentBased/codes/covasim/models/data/tn_districts.txt'\n",
    "district_map, district_pop = {}, {}\n",
    "with open(district_path, 'r') as fp:\n",
    "    for line in fp:\n",
    "        line = line.strip()\n",
    "        if not line:\n",
    "            continue\n",
    "        keys = [x.strip().lower() for x in line.split(',')]\n",
    "        district_pop[keys[0]] = int(keys[-3])\n",
    "        d = keys[:-3]\n",
    "        district_map[d[0]] = d[0]\n",
    "        for i in range(1, len(d)):\n",
    "            district_map[d[i]] = d[0]"
   ]
  },
  {
   "cell_type": "code",
   "execution_count": 8,
   "metadata": {},
   "outputs": [],
   "source": [
    "def create_word_vector(sen):\n",
    "    sen = str(sen)\n",
    "    imp_keys = sen.strip().split(',')\n",
    "    if len(imp_keys) == 0:\n",
    "        return set()\n",
    "    if len(imp_keys) > 1:\n",
    "        imp_keys = imp_keys[1:]\n",
    "    imp_keys = [re.sub(r\"[,;\\-_\\'\\\":\\.\\?]\", \" \", x).strip() for x in imp_keys]\n",
    "    unigram = []\n",
    "    for k in imp_keys:\n",
    "        w = [x.strip().lower() for x in k.split(' ') if x.strip()]\n",
    "        unigram.extend(w)\n",
    "    bigram = []\n",
    "    for i in range(len(unigram)-1):\n",
    "        bigram.append(f'{unigram[i]}_{unigram[i+1]}')\n",
    "    keys = set(unigram + bigram)\n",
    "    return keys"
   ]
  },
  {
   "cell_type": "code",
   "execution_count": 9,
   "metadata": {},
   "outputs": [],
   "source": [
    "def create_word_frequency(df, district_map, district_pop):\n",
    "    word_freq, dist_cnt = {}, defaultdict(int)\n",
    "    known_district, unknown_district = [], []\n",
    "    for idx, row in df.iterrows():\n",
    "        address = row['Present Address']\n",
    "        words = create_word_vector(address)\n",
    "        possible_districts = [district_map[x] for x in district_map.keys() if x in words]\n",
    "        if not possible_districts:\n",
    "            unknown_district.append(idx)\n",
    "            continue\n",
    "        dist, ncdc_dist = \"\", row['NCDC District']\n",
    "        if len(possible_districts) > 1 and (not pd.isnull(ncdc_dist)) and (ncdc_dist.lower() in possible_districts):\n",
    "            dist = ncdc_dist.lower()\n",
    "        else:\n",
    "            for d in possible_districts:\n",
    "                if (dist == \"\") or (district_pop[dist] < district_pop[d]):\n",
    "                    dist = d\n",
    "        for w in words:\n",
    "            if w not in word_freq:\n",
    "                word_freq[w] = defaultdict(int)\n",
    "            word_freq[w][dist] += 1\n",
    "        dist_cnt[dist] += 1\n",
    "        known_district.append((idx, dist))\n",
    "    \n",
    "    for k, v in word_freq.items():\n",
    "        for d in v.keys():\n",
    "            v[d] /= dist_cnt[d]\n",
    "    \n",
    "    total_cnt = sum(dist_cnt.values())\n",
    "    for k in dist_cnt.keys():\n",
    "        dist_cnt[k] /= total_cnt\n",
    "\n",
    "    return (word_freq, dist_cnt, known_district, unknown_district)"
   ]
  },
  {
   "cell_type": "code",
   "execution_count": 10,
   "metadata": {},
   "outputs": [],
   "source": [
    "def get_district(df, unknown, word_prob, dist_prob):\n",
    "    estimated, new_unknown = [], []\n",
    "    for idx in unknown:\n",
    "        address = df.loc[idx]['Present Address']\n",
    "        words = create_word_vector(address)\n",
    "        dist, logit = \"\", -np.inf\n",
    "        for d in dist_prob.keys():\n",
    "            logp = 0\n",
    "            for w in words:\n",
    "                if (w not in word_prob) or (word_prob[w][d] == 0):\n",
    "                    logp += -100\n",
    "                else:\n",
    "                    logp += np.log(word_prob[w][d])\n",
    "            if logp == -100*len(words):\n",
    "                continue\n",
    "            logp += np.log(dist_prob[d])\n",
    "            if logp > logit:\n",
    "                dist, logit = d, logp\n",
    "        if dist == \"\":\n",
    "            new_unknown.append(idx)\n",
    "        else:\n",
    "            estimated.append((idx, dist))\n",
    "    return (estimated, new_unknown)"
   ]
  },
  {
   "cell_type": "code",
   "execution_count": 11,
   "metadata": {},
   "outputs": [],
   "source": [
    "def add_new_column_district(df, known, estimated):\n",
    "    k, total_k = 0, len(known)\n",
    "    e, total_e = 0, len(estimated)\n",
    "    pos, total = 0, len(df)\n",
    "    districts = []\n",
    "    while k < total_k or e < total_e or pos < total:\n",
    "        if k < total_k and known[k][0] == pos:\n",
    "            districts.append(known[k][1])\n",
    "            k += 1\n",
    "        elif e < total_e and estimated[e][0] == pos:\n",
    "            districts.append(estimated[e][1])\n",
    "            e += 1\n",
    "        else:\n",
    "            districts.append(np.nan)\n",
    "        pos += 1\n",
    "    return districts"
   ]
  },
  {
   "cell_type": "code",
   "execution_count": 12,
   "metadata": {},
   "outputs": [],
   "source": [
    "word_freq, dist_cnt, known_district, unknown_district = create_word_frequency(not_nan_df, district_map, district_pop)"
   ]
  },
  {
   "cell_type": "code",
   "execution_count": 25,
   "metadata": {},
   "outputs": [
    {
     "data": {
      "text/plain": [
       "0.18232458037494592"
      ]
     },
     "execution_count": 25,
     "metadata": {},
     "output_type": "execute_result"
    }
   ],
   "source": [
    "len(known_district) / len(not_nan_df)"
   ]
  },
  {
   "cell_type": "code",
   "execution_count": 13,
   "metadata": {
    "scrolled": false
   },
   "outputs": [],
   "source": [
    "est, un = get_district(hdf, unknown_district, word_freq, dist_cnt)"
   ]
  },
  {
   "cell_type": "code",
   "execution_count": 14,
   "metadata": {},
   "outputs": [],
   "source": [
    "districts = add_new_column_district(hdf, known_district, est)"
   ]
  },
  {
   "cell_type": "code",
   "execution_count": 15,
   "metadata": {},
   "outputs": [],
   "source": [
    "hdf['estimated_district'] = districts"
   ]
  },
  {
   "cell_type": "code",
   "execution_count": 40,
   "metadata": {},
   "outputs": [
    {
     "data": {
      "text/plain": [
       "{'ariyalur',\n",
       " 'chengalpet',\n",
       " 'chennai',\n",
       " 'coimbatore',\n",
       " 'cuddalore',\n",
       " 'dharmapuri',\n",
       " 'dindigul',\n",
       " 'erode',\n",
       " 'kallakurichi',\n",
       " 'kancheepuram',\n",
       " 'kanyakumari',\n",
       " 'karur',\n",
       " 'krishnagiri',\n",
       " 'madurai',\n",
       " 'mayiladuthurai',\n",
       " 'nagapattinam',\n",
       " 'namakkal',\n",
       " nan,\n",
       " 'nilgiris',\n",
       " 'perambalur',\n",
       " 'pudukottai',\n",
       " 'ramanathapuram',\n",
       " 'ranipet',\n",
       " 'salem',\n",
       " 'sivagangai',\n",
       " 'tenkasi',\n",
       " 'thanjavur',\n",
       " 'theni',\n",
       " 'thirunelveli',\n",
       " 'thiruvallur',\n",
       " 'thiruvarur',\n",
       " 'tirupathur',\n",
       " 'tiruppur',\n",
       " 'tiruvannamalai',\n",
       " 'tuticorin',\n",
       " 'vellore',\n",
       " 'viluppuram',\n",
       " 'virudhunagar'}"
      ]
     },
     "execution_count": 40,
     "metadata": {},
     "output_type": "execute_result"
    }
   ],
   "source": [
    "set(districts)"
   ]
  },
  {
   "cell_type": "code",
   "execution_count": 23,
   "metadata": {},
   "outputs": [
    {
     "data": {
      "text/html": [
       "<div>\n",
       "<style scoped>\n",
       "    .dataframe tbody tr th:only-of-type {\n",
       "        vertical-align: middle;\n",
       "    }\n",
       "\n",
       "    .dataframe tbody tr th {\n",
       "        vertical-align: top;\n",
       "    }\n",
       "\n",
       "    .dataframe thead th {\n",
       "        text-align: right;\n",
       "    }\n",
       "</style>\n",
       "<table border=\"1\" class=\"dataframe\">\n",
       "  <thead>\n",
       "    <tr style=\"text-align: right;\">\n",
       "      <th></th>\n",
       "      <th>NCDC District</th>\n",
       "      <th>Present Address</th>\n",
       "    </tr>\n",
       "  </thead>\n",
       "  <tbody>\n",
       "    <tr>\n",
       "      <th>283</th>\n",
       "      <td>CHENGALPATTU</td>\n",
       "      <td>THERADI ST , KEZHMAVILANU THINDIVANAM , VILLUPURAM</td>\n",
       "    </tr>\n",
       "    <tr>\n",
       "      <th>725</th>\n",
       "      <td>CHENGALPATTU</td>\n",
       "      <td>98, PILLAYAR KOIL ST , PULLUR</td>\n",
       "    </tr>\n",
       "    <tr>\n",
       "      <th>1416</th>\n",
       "      <td>CHENGALPATTU</td>\n",
       "      <td>VILLUPURAM THINDIVANAM</td>\n",
       "    </tr>\n",
       "    <tr>\n",
       "      <th>1502</th>\n",
       "      <td>CHENGALPATTU</td>\n",
       "      <td>VILLUPURAM</td>\n",
       "    </tr>\n",
       "    <tr>\n",
       "      <th>2051</th>\n",
       "      <td>CHENGALPATTU</td>\n",
       "      <td>BULDING WORKER THINDIVANAM</td>\n",
       "    </tr>\n",
       "    <tr>\n",
       "      <th>...</th>\n",
       "      <td>...</td>\n",
       "      <td>...</td>\n",
       "    </tr>\n",
       "    <tr>\n",
       "      <th>94492</th>\n",
       "      <td>CHENNAI</td>\n",
       "      <td>KOTTAKARAI VILLUPURAM TAMIL NADU</td>\n",
       "    </tr>\n",
       "    <tr>\n",
       "      <th>94522</th>\n",
       "      <td>CHENNAI</td>\n",
       "      <td>EZHIL NAGAR</td>\n",
       "    </tr>\n",
       "    <tr>\n",
       "      <th>97685</th>\n",
       "      <td>CHENNAI</td>\n",
       "      <td>184, TVM PILLAYAR KOIL ST</td>\n",
       "    </tr>\n",
       "    <tr>\n",
       "      <th>99019</th>\n",
       "      <td>CHENNAI</td>\n",
       "      <td>35,EZHIL NAGAR. 600097CHENNAI, TAMILNADU, INDIAN</td>\n",
       "    </tr>\n",
       "    <tr>\n",
       "      <th>99033</th>\n",
       "      <td>CHENNAI</td>\n",
       "      <td>NO 13/20, EZHIL NAGAR, SUNAMI KUDIERUPU</td>\n",
       "    </tr>\n",
       "  </tbody>\n",
       "</table>\n",
       "<p>101 rows × 2 columns</p>\n",
       "</div>"
      ],
      "text/plain": [
       "      NCDC District                                     Present Address\n",
       "283    CHENGALPATTU  THERADI ST , KEZHMAVILANU THINDIVANAM , VILLUPURAM\n",
       "725    CHENGALPATTU                       98, PILLAYAR KOIL ST , PULLUR\n",
       "1416   CHENGALPATTU                              VILLUPURAM THINDIVANAM\n",
       "1502   CHENGALPATTU                                          VILLUPURAM\n",
       "2051   CHENGALPATTU                          BULDING WORKER THINDIVANAM\n",
       "...             ...                                                 ...\n",
       "94492       CHENNAI                    KOTTAKARAI VILLUPURAM TAMIL NADU\n",
       "94522       CHENNAI                                         EZHIL NAGAR\n",
       "97685       CHENNAI                           184, TVM PILLAYAR KOIL ST\n",
       "99019       CHENNAI    35,EZHIL NAGAR. 600097CHENNAI, TAMILNADU, INDIAN\n",
       "99033       CHENNAI             NO 13/20, EZHIL NAGAR, SUNAMI KUDIERUPU\n",
       "\n",
       "[101 rows x 2 columns]"
      ]
     },
     "execution_count": 23,
     "metadata": {},
     "output_type": "execute_result"
    }
   ],
   "source": [
    "hdf[hdf['estimated_district'] == 'viluppuram'][['NCDC District', 'Present Address']]"
   ]
  },
  {
   "cell_type": "code",
   "execution_count": 42,
   "metadata": {},
   "outputs": [
    {
     "data": {
      "text/plain": [
       "Index(['NCDC State', 'NCDC District', 'Surveillance Id', 'Test Id (ICMR)',\n",
       "       'Patient Age', 'Age In', 'Gender', 'Nationality',\n",
       "       'Present Village Town', 'Present Address', 'Lab Name', 'Resp Inf',\n",
       "       'Under Med Con', 'Travel History', 'Date Of Arrival In India',\n",
       "       'Symptoms', 'Date Of Sample Tested', 'Date Of Onset Of Symptoms',\n",
       "       'Patient Status Code', 'Facility where Patient Admitted', 'Camp Code',\n",
       "       'State Code', 'District Code', 'Family Admitted Code', 'Outcome Code',\n",
       "       'Migrated Country', 'Date Isolation', 'Total Contacts', 'Validated',\n",
       "       'estimated_district'],\n",
       "      dtype='object')"
      ]
     },
     "execution_count": 42,
     "metadata": {},
     "output_type": "execute_result"
    }
   ],
   "source": [
    "hdf.columns"
   ]
  },
  {
   "cell_type": "code",
   "execution_count": null,
   "metadata": {
    "scrolled": false
   },
   "outputs": [],
   "source": [
    "hdf['Date Isolation'].unique()"
   ]
  },
  {
   "cell_type": "code",
   "execution_count": null,
   "metadata": {},
   "outputs": [],
   "source": []
  }
 ],
 "metadata": {
  "kernelspec": {
   "display_name": "Python 3 (ipykernel)",
   "language": "python",
   "name": "python3"
  },
  "language_info": {
   "codemirror_mode": {
    "name": "ipython",
    "version": 3
   },
   "file_extension": ".py",
   "mimetype": "text/x-python",
   "name": "python",
   "nbconvert_exporter": "python",
   "pygments_lexer": "ipython3",
   "version": "3.8.12"
  }
 },
 "nbformat": 4,
 "nbformat_minor": 4
}
